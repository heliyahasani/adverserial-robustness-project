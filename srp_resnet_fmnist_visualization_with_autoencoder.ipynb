{
  "cells": [
    {
      "cell_type": "code",
      "source": [
        "from google.colab import files\n",
        " \n",
        " \n",
        "uploaded = files.upload()"
      ],
      "metadata": {
        "colab": {
          "base_uri": "https://localhost:8080/",
          "height": 389
        },
        "id": "T4iR7F7IbRwh",
        "outputId": "79897988-ea11-4ec6-bde6-c4ea34e1cc2f"
      },
      "execution_count": 3,
      "outputs": [
        {
          "output_type": "display_data",
          "data": {
            "text/plain": [
              "<IPython.core.display.HTML object>"
            ],
            "text/html": [
              "\n",
              "     <input type=\"file\" id=\"files-b80a1c74-54f9-463b-a34c-b9d6fda0da88\" name=\"files[]\" multiple disabled\n",
              "        style=\"border:none\" />\n",
              "     <output id=\"result-b80a1c74-54f9-463b-a34c-b9d6fda0da88\">\n",
              "      Upload widget is only available when the cell has been executed in the\n",
              "      current browser session. Please rerun this cell to enable.\n",
              "      </output>\n",
              "      <script>// Copyright 2017 Google LLC\n",
              "//\n",
              "// Licensed under the Apache License, Version 2.0 (the \"License\");\n",
              "// you may not use this file except in compliance with the License.\n",
              "// You may obtain a copy of the License at\n",
              "//\n",
              "//      http://www.apache.org/licenses/LICENSE-2.0\n",
              "//\n",
              "// Unless required by applicable law or agreed to in writing, software\n",
              "// distributed under the License is distributed on an \"AS IS\" BASIS,\n",
              "// WITHOUT WARRANTIES OR CONDITIONS OF ANY KIND, either express or implied.\n",
              "// See the License for the specific language governing permissions and\n",
              "// limitations under the License.\n",
              "\n",
              "/**\n",
              " * @fileoverview Helpers for google.colab Python module.\n",
              " */\n",
              "(function(scope) {\n",
              "function span(text, styleAttributes = {}) {\n",
              "  const element = document.createElement('span');\n",
              "  element.textContent = text;\n",
              "  for (const key of Object.keys(styleAttributes)) {\n",
              "    element.style[key] = styleAttributes[key];\n",
              "  }\n",
              "  return element;\n",
              "}\n",
              "\n",
              "// Max number of bytes which will be uploaded at a time.\n",
              "const MAX_PAYLOAD_SIZE = 100 * 1024;\n",
              "\n",
              "function _uploadFiles(inputId, outputId) {\n",
              "  const steps = uploadFilesStep(inputId, outputId);\n",
              "  const outputElement = document.getElementById(outputId);\n",
              "  // Cache steps on the outputElement to make it available for the next call\n",
              "  // to uploadFilesContinue from Python.\n",
              "  outputElement.steps = steps;\n",
              "\n",
              "  return _uploadFilesContinue(outputId);\n",
              "}\n",
              "\n",
              "// This is roughly an async generator (not supported in the browser yet),\n",
              "// where there are multiple asynchronous steps and the Python side is going\n",
              "// to poll for completion of each step.\n",
              "// This uses a Promise to block the python side on completion of each step,\n",
              "// then passes the result of the previous step as the input to the next step.\n",
              "function _uploadFilesContinue(outputId) {\n",
              "  const outputElement = document.getElementById(outputId);\n",
              "  const steps = outputElement.steps;\n",
              "\n",
              "  const next = steps.next(outputElement.lastPromiseValue);\n",
              "  return Promise.resolve(next.value.promise).then((value) => {\n",
              "    // Cache the last promise value to make it available to the next\n",
              "    // step of the generator.\n",
              "    outputElement.lastPromiseValue = value;\n",
              "    return next.value.response;\n",
              "  });\n",
              "}\n",
              "\n",
              "/**\n",
              " * Generator function which is called between each async step of the upload\n",
              " * process.\n",
              " * @param {string} inputId Element ID of the input file picker element.\n",
              " * @param {string} outputId Element ID of the output display.\n",
              " * @return {!Iterable<!Object>} Iterable of next steps.\n",
              " */\n",
              "function* uploadFilesStep(inputId, outputId) {\n",
              "  const inputElement = document.getElementById(inputId);\n",
              "  inputElement.disabled = false;\n",
              "\n",
              "  const outputElement = document.getElementById(outputId);\n",
              "  outputElement.innerHTML = '';\n",
              "\n",
              "  const pickedPromise = new Promise((resolve) => {\n",
              "    inputElement.addEventListener('change', (e) => {\n",
              "      resolve(e.target.files);\n",
              "    });\n",
              "  });\n",
              "\n",
              "  const cancel = document.createElement('button');\n",
              "  inputElement.parentElement.appendChild(cancel);\n",
              "  cancel.textContent = 'Cancel upload';\n",
              "  const cancelPromise = new Promise((resolve) => {\n",
              "    cancel.onclick = () => {\n",
              "      resolve(null);\n",
              "    };\n",
              "  });\n",
              "\n",
              "  // Wait for the user to pick the files.\n",
              "  const files = yield {\n",
              "    promise: Promise.race([pickedPromise, cancelPromise]),\n",
              "    response: {\n",
              "      action: 'starting',\n",
              "    }\n",
              "  };\n",
              "\n",
              "  cancel.remove();\n",
              "\n",
              "  // Disable the input element since further picks are not allowed.\n",
              "  inputElement.disabled = true;\n",
              "\n",
              "  if (!files) {\n",
              "    return {\n",
              "      response: {\n",
              "        action: 'complete',\n",
              "      }\n",
              "    };\n",
              "  }\n",
              "\n",
              "  for (const file of files) {\n",
              "    const li = document.createElement('li');\n",
              "    li.append(span(file.name, {fontWeight: 'bold'}));\n",
              "    li.append(span(\n",
              "        `(${file.type || 'n/a'}) - ${file.size} bytes, ` +\n",
              "        `last modified: ${\n",
              "            file.lastModifiedDate ? file.lastModifiedDate.toLocaleDateString() :\n",
              "                                    'n/a'} - `));\n",
              "    const percent = span('0% done');\n",
              "    li.appendChild(percent);\n",
              "\n",
              "    outputElement.appendChild(li);\n",
              "\n",
              "    const fileDataPromise = new Promise((resolve) => {\n",
              "      const reader = new FileReader();\n",
              "      reader.onload = (e) => {\n",
              "        resolve(e.target.result);\n",
              "      };\n",
              "      reader.readAsArrayBuffer(file);\n",
              "    });\n",
              "    // Wait for the data to be ready.\n",
              "    let fileData = yield {\n",
              "      promise: fileDataPromise,\n",
              "      response: {\n",
              "        action: 'continue',\n",
              "      }\n",
              "    };\n",
              "\n",
              "    // Use a chunked sending to avoid message size limits. See b/62115660.\n",
              "    let position = 0;\n",
              "    do {\n",
              "      const length = Math.min(fileData.byteLength - position, MAX_PAYLOAD_SIZE);\n",
              "      const chunk = new Uint8Array(fileData, position, length);\n",
              "      position += length;\n",
              "\n",
              "      const base64 = btoa(String.fromCharCode.apply(null, chunk));\n",
              "      yield {\n",
              "        response: {\n",
              "          action: 'append',\n",
              "          file: file.name,\n",
              "          data: base64,\n",
              "        },\n",
              "      };\n",
              "\n",
              "      let percentDone = fileData.byteLength === 0 ?\n",
              "          100 :\n",
              "          Math.round((position / fileData.byteLength) * 100);\n",
              "      percent.textContent = `${percentDone}% done`;\n",
              "\n",
              "    } while (position < fileData.byteLength);\n",
              "  }\n",
              "\n",
              "  // All done.\n",
              "  yield {\n",
              "    response: {\n",
              "      action: 'complete',\n",
              "    }\n",
              "  };\n",
              "}\n",
              "\n",
              "scope.google = scope.google || {};\n",
              "scope.google.colab = scope.google.colab || {};\n",
              "scope.google.colab._files = {\n",
              "  _uploadFiles,\n",
              "  _uploadFilesContinue,\n",
              "};\n",
              "})(self);\n",
              "</script> "
            ]
          },
          "metadata": {}
        },
        {
          "output_type": "stream",
          "name": "stdout",
          "text": [
            "Saving data_transformations.py to data_transformations.py\n",
            "Saving ffgsm_.py to ffgsm_.py\n",
            "Saving fgsm_.py to fgsm_.py\n",
            "Saving models.py to models.py\n",
            "Saving no_attack.py to no_attack.py\n",
            "Saving pgd_.py to pgd_.py\n",
            "Saving pgdl2_.py to pgdl2_.py\n",
            "Saving rep_transformations.py to rep_transformations.py\n",
            "Saving slide_.py to slide_.py\n",
            "Saving stochastic_attack.py to stochastic_attack.py\n"
          ]
        }
      ]
    },
    {
      "cell_type": "code",
      "execution_count": 6,
      "metadata": {
        "id": "FCDUw0z5SEEP"
      },
      "outputs": [],
      "source": [
        "#Import libraries\n",
        "\n",
        "import os\n",
        "os.environ['KMP_DUPLICATE_LIB_OK'] = 'True'\n",
        "\n",
        "import sys\n",
        "import numpy as np\n",
        "import pandas as pd\n",
        "import matplotlib\n",
        "import matplotlib.pyplot as plt\n",
        "import random\n",
        "\n",
        "import torch\n",
        "import torch.nn as nn\n",
        "import torch.optim as optim\n",
        "\n",
        "from torchvision import models\n",
        "import torchvision.utils\n",
        "import torchvision.datasets as dsets\n",
        "import torchvision.transforms as transforms\n",
        "\n",
        "#from torchattacks import PGD, FGSM, FFGSM\n",
        "import rep_transformations as rt\n",
        "from no_attack import NO_ATTACK\n",
        "from stochastic_attack import STOCHASTIC_ATTACK\n",
        "from fgsm_ import FGSM_\n",
        "from ffgsm_ import FFGSM_\n",
        "from slide_ import SLIDE_\n",
        "from pgd_ import PGD_\n",
        "from pgdl2_ import PGDL2_\n",
        "from data_transformations import DctBlurry"
      ]
    },
    {
      "cell_type": "code",
      "source": [
        "pip install torchattacks"
      ],
      "metadata": {
        "colab": {
          "base_uri": "https://localhost:8080/"
        },
        "id": "7Bc1pR4vGXrG",
        "outputId": "2056a7bd-9a0e-4569-9762-b54731e599f3"
      },
      "execution_count": 5,
      "outputs": [
        {
          "output_type": "stream",
          "name": "stdout",
          "text": [
            "Looking in indexes: https://pypi.org/simple, https://us-python.pkg.dev/colab-wheels/public/simple/\n",
            "Collecting torchattacks\n",
            "  Downloading torchattacks-3.3.0-py3-none-any.whl (155 kB)\n",
            "\u001b[K     |████████████████████████████████| 155 kB 15.1 MB/s \n",
            "\u001b[?25hInstalling collected packages: torchattacks\n",
            "Successfully installed torchattacks-3.3.0\n"
          ]
        }
      ]
    },
    {
      "cell_type": "code",
      "execution_count": 7,
      "metadata": {
        "colab": {
          "base_uri": "https://localhost:8080/"
        },
        "id": "Qk1PDt15bQ59",
        "outputId": "0df9fbe0-cb2d-4f4a-edab-cbb49e4d3a89"
      },
      "outputs": [
        {
          "output_type": "stream",
          "name": "stdout",
          "text": [
            "Is CUDA supported by this system? True\n",
            "CUDA version: 11.3\n",
            "ID of current CUDA device: 0\n",
            "Name of current CUDA device: Tesla T4\n",
            "\n",
            "CUDA devide properties: _CudaDeviceProperties(name='Tesla T4', major=7, minor=5, total_memory=15109MB, multi_processor_count=40)\n"
          ]
        }
      ],
      "source": [
        "#Show CUDA settings\n",
        "\n",
        "print(f\"Is CUDA supported by this system? {torch.cuda.is_available()}\")\n",
        "print(f\"CUDA version: {torch.version.cuda}\")\n",
        "  \n",
        "cuda_id = torch.cuda.current_device()\n",
        "print(f\"ID of current CUDA device: {cuda_id}\")\n",
        "\n",
        "cuda_name = torch.cuda.get_device_name(cuda_id)\n",
        "print(f\"Name of current CUDA device: {cuda_name}\\n\")\n",
        "print(f\"CUDA devide properties: {torch.cuda.get_device_properties(0)}\")"
      ]
    },
    {
      "cell_type": "code",
      "execution_count": 8,
      "metadata": {
        "id": "vzPJjfl2StOo",
        "colab": {
          "base_uri": "https://localhost:8080/",
          "height": 430,
          "referenced_widgets": [
            "3ee36be41dec4935bd7298b22ee9ec49",
            "85572aa776854b1fb5ae3e051988e227",
            "41ebe27c940b428c86f2e0d3d68c2063",
            "1078edacdf7744148b28aac171da53b2",
            "afe82b06c17c4cb1b1a52ad93d7d4ec9",
            "d032bd0b8065452e9d71ca357a118519",
            "a1a4fee2f5e042c69ae600928e9a7dd4",
            "4b606a3b8369494492ce07a2a13cc0ad",
            "006078dbcd6f44a3a9d2178ba6eeed0d",
            "82336a6368674bc88d50d54fa15402e3",
            "150ade1b7e2a4418b92b03c068597107",
            "92c1cb7aa36d41848682541a3a8e4778",
            "2b1f8d5b74de43efbabecfeb51008e01",
            "ea83bebe78b145a09b4d3927e1180576",
            "0bc68e58d65447919c5bd43fe7b59257",
            "79a376cd6e5a468b806445c400228b03",
            "66a4aef1b60d445caced3750c5d75cf2",
            "a4e4205e2a39413cbb1f390ac45447ae",
            "1fea8d0c94fc401dbc600302e3371d79",
            "29f7a2e50ec34ab4b598b22573c6bea9",
            "0a49a546dcc44cd798086207908ca4d5",
            "0d631dee08c14825bfc711a66ec6208d",
            "5ef79d76eac749eba25d3a444360f036",
            "0eae0fafdf2c4b24a480fbd964a6d043",
            "e267453e7d1a42aebdc59b355d441d7c",
            "05e011dc41384ef1ab5e056bc04e4662",
            "ce7c15bf891a4031af4e8592a6ac4ea6",
            "9643c8774442444bb0d82c4afa3059d3",
            "566c60aaba8c4943bf4e2a7bc3af99f9",
            "bb8a38b093a34c1dbe4cbae56b023b97",
            "9a3fcd55ed324c68b42a56f91c2b5d54",
            "b04f2aa9c08046c19948d94ed62d603b",
            "389bd5aefa094dca880e69b8d4b648f2",
            "c8b3bd0ca97b4ebd87f671d81163bc2f",
            "6092da6ec076440eae89ddc8bf6d08e5",
            "3060f01f5f994d0ab9244102868bc9d7",
            "ca2ce7eb866e47e4a271f2c86cc4e4cb",
            "325f9d74803345d9acf07fc867865630",
            "9b5aeacf7b6a4152b7620a1a89593375",
            "e46a9ea06b414e55a155566c1eaf37a2",
            "8056a0540b6d4207b067309f99e58557",
            "2bedc9c40c214882b40897807074a359",
            "e959cbb3e6c54f45ad3f4040a56a610c",
            "d8f31ee9b01e4aa69fc634e1d255ab3f"
          ]
        },
        "outputId": "8ba2f69b-afe9-4121-8032-7f8b792c0936"
      },
      "outputs": [
        {
          "output_type": "stream",
          "name": "stdout",
          "text": [
            "Downloading http://fashion-mnist.s3-website.eu-central-1.amazonaws.com/train-images-idx3-ubyte.gz\n",
            "Downloading http://fashion-mnist.s3-website.eu-central-1.amazonaws.com/train-images-idx3-ubyte.gz to ./data1/FashionMNIST/raw/train-images-idx3-ubyte.gz\n"
          ]
        },
        {
          "output_type": "display_data",
          "data": {
            "text/plain": [
              "  0%|          | 0/26421880 [00:00<?, ?it/s]"
            ],
            "application/vnd.jupyter.widget-view+json": {
              "version_major": 2,
              "version_minor": 0,
              "model_id": "3ee36be41dec4935bd7298b22ee9ec49"
            }
          },
          "metadata": {}
        },
        {
          "output_type": "stream",
          "name": "stdout",
          "text": [
            "Extracting ./data1/FashionMNIST/raw/train-images-idx3-ubyte.gz to ./data1/FashionMNIST/raw\n",
            "\n",
            "Downloading http://fashion-mnist.s3-website.eu-central-1.amazonaws.com/train-labels-idx1-ubyte.gz\n",
            "Downloading http://fashion-mnist.s3-website.eu-central-1.amazonaws.com/train-labels-idx1-ubyte.gz to ./data1/FashionMNIST/raw/train-labels-idx1-ubyte.gz\n"
          ]
        },
        {
          "output_type": "display_data",
          "data": {
            "text/plain": [
              "  0%|          | 0/29515 [00:00<?, ?it/s]"
            ],
            "application/vnd.jupyter.widget-view+json": {
              "version_major": 2,
              "version_minor": 0,
              "model_id": "92c1cb7aa36d41848682541a3a8e4778"
            }
          },
          "metadata": {}
        },
        {
          "output_type": "stream",
          "name": "stdout",
          "text": [
            "Extracting ./data1/FashionMNIST/raw/train-labels-idx1-ubyte.gz to ./data1/FashionMNIST/raw\n",
            "\n",
            "Downloading http://fashion-mnist.s3-website.eu-central-1.amazonaws.com/t10k-images-idx3-ubyte.gz\n",
            "Downloading http://fashion-mnist.s3-website.eu-central-1.amazonaws.com/t10k-images-idx3-ubyte.gz to ./data1/FashionMNIST/raw/t10k-images-idx3-ubyte.gz\n"
          ]
        },
        {
          "output_type": "display_data",
          "data": {
            "text/plain": [
              "  0%|          | 0/4422102 [00:00<?, ?it/s]"
            ],
            "application/vnd.jupyter.widget-view+json": {
              "version_major": 2,
              "version_minor": 0,
              "model_id": "5ef79d76eac749eba25d3a444360f036"
            }
          },
          "metadata": {}
        },
        {
          "output_type": "stream",
          "name": "stdout",
          "text": [
            "Extracting ./data1/FashionMNIST/raw/t10k-images-idx3-ubyte.gz to ./data1/FashionMNIST/raw\n",
            "\n",
            "Downloading http://fashion-mnist.s3-website.eu-central-1.amazonaws.com/t10k-labels-idx1-ubyte.gz\n",
            "Downloading http://fashion-mnist.s3-website.eu-central-1.amazonaws.com/t10k-labels-idx1-ubyte.gz to ./data1/FashionMNIST/raw/t10k-labels-idx1-ubyte.gz\n"
          ]
        },
        {
          "output_type": "display_data",
          "data": {
            "text/plain": [
              "  0%|          | 0/5148 [00:00<?, ?it/s]"
            ],
            "application/vnd.jupyter.widget-view+json": {
              "version_major": 2,
              "version_minor": 0,
              "model_id": "c8b3bd0ca97b4ebd87f671d81163bc2f"
            }
          },
          "metadata": {}
        },
        {
          "output_type": "stream",
          "name": "stdout",
          "text": [
            "Extracting ./data1/FashionMNIST/raw/t10k-labels-idx1-ubyte.gz to ./data1/FashionMNIST/raw\n",
            "\n"
          ]
        }
      ],
      "source": [
        "#Downloading Fashion MNIST Dataset\n",
        "train_list_transforms = transforms.Compose([\n",
        "        transforms.RandomHorizontalFlip(),\n",
        "        transforms.ToTensor(),\n",
        "        DctBlurry(threshold=5),\n",
        "    ])\n",
        "\n",
        "test_list_transforms = transforms.Compose([\n",
        "        transforms.ToTensor(),\n",
        "    ])\n",
        "\n",
        "fashion_mnist_train = dsets.FashionMNIST(root='./data1/',\n",
        "                          train=True,\n",
        "                          transform=train_list_transforms,\n",
        "                          download=True)\n",
        "\n",
        "fashion_mnist_aux = dsets.FashionMNIST(root='./data1/',\n",
        "                         train=False,\n",
        "                         transform=test_list_transforms,\n",
        "                         download=True)\n",
        "\n",
        "fashion_mnist_test, fashion_mnist_valid = torch.utils.data.random_split(fashion_mnist_aux, [5000, 5000], generator=torch.Generator().manual_seed(42))"
      ]
    },
    {
      "cell_type": "code",
      "execution_count": 9,
      "metadata": {
        "id": "VLOMLHG7S2_7",
        "colab": {
          "base_uri": "https://localhost:8080/"
        },
        "outputId": "289b4390-0910-4d88-8fa6-c4898c34fe2f"
      },
      "outputs": [
        {
          "output_type": "stream",
          "name": "stderr",
          "text": [
            "/usr/local/lib/python3.7/dist-packages/torch/utils/data/dataloader.py:566: UserWarning: This DataLoader will create 5 worker processes in total. Our suggested max number of worker in current system is 2, which is smaller than what this DataLoader is going to create. Please be aware that excessive worker creation might get DataLoader running slow or even freeze, lower the worker number to avoid potential slowness/freeze if necessary.\n",
            "  cpuset_checked))\n"
          ]
        }
      ],
      "source": [
        "#Initialize DataLoader\n",
        "\n",
        "batch_size = 128\n",
        "torch.manual_seed(0)\n",
        "n_workers = 5\n",
        "\n",
        "train_loader  = torch.utils.data.DataLoader(dataset=fashion_mnist_train,\n",
        "                                           batch_size=batch_size,\n",
        "                                           shuffle=42, num_workers=n_workers)\n",
        "\n",
        "test_loader = torch.utils.data.DataLoader(dataset=fashion_mnist_test,\n",
        "                                         batch_size=batch_size,\n",
        "                                         shuffle=42, num_workers=n_workers)\n",
        "\n",
        "valid_loader = torch.utils.data.DataLoader(dataset=fashion_mnist_valid,\n",
        "                                         batch_size=batch_size,\n",
        "                                         shuffle=42, num_workers=n_workers)"
      ]
    },
    {
      "cell_type": "code",
      "execution_count": 10,
      "metadata": {
        "id": "hGePy3D_bQ6A"
      },
      "outputs": [],
      "source": [
        "#Initialize transformations\n",
        "\n",
        "id_transf = rt.Identity()\n",
        "fft_transf = rt.FFT()\n",
        "dct_transf = rt.DCT()\n",
        "jpeg_transf = rt.JPEG()\n",
        "\n",
        "list_transf = [id_transf, fft_transf, dct_transf, jpeg_transf]"
      ]
    },
    {
      "cell_type": "code",
      "execution_count": 11,
      "metadata": {
        "id": "HRAlJTAVTK7h"
      },
      "outputs": [],
      "source": [
        "#Get model and optimizer\n",
        "\n",
        "def generate_model(pretrained=True, lr=0.001):\n",
        "\n",
        "    #Init model and optimizer\n",
        "    model = torchvision.models.resnet50(pretrained=True).cuda() #CNN.cuda() to resnet 50\n",
        "    optimizer = optim.Adam(model.parameters(), lr=0.001)\n",
        "    \n",
        "    #Change model architecture \n",
        "    model.conv1 = nn.Conv2d(1, 64, kernel_size=7, stride=2, padding=3, bias=False)\n",
        "    model.fc = nn.Linear(2048, 10, bias=True)\n",
        "    \n",
        "    #Set device\n",
        "    device = torch.device(\"cuda\" if torch.cuda.is_available() else \"cpu\")\n",
        "    if torch.cuda.is_available():\n",
        "        model.to(device)\n",
        "        \n",
        "    return model, optimizer"
      ]
    },
    {
      "cell_type": "code",
      "execution_count": 12,
      "metadata": {
        "id": "u3Hfg6f-X363"
      },
      "outputs": [],
      "source": [
        "#modified test function with 3 attacks and toggle between Pixel and DCT representation.Default is Pixel\n",
        "\n",
        "def get_accuracy(model, test_loader, atk):\n",
        "    \n",
        "    model.eval()\n",
        "    correct = 0\n",
        "    total = 0    \n",
        "\n",
        "    for images, labels in test_loader:\n",
        "\n",
        "        images = atk(images, labels).cuda()              \n",
        "        outputs = model(images)\n",
        "        _, predicted = torch.max(outputs.data, 1)\n",
        "        \n",
        "        total += labels.size(0)\n",
        "        correct += (predicted == labels.cuda()).sum()\n",
        "\n",
        "    return 100 * float(correct) / total"
      ]
    },
    {
      "cell_type": "code",
      "execution_count": 13,
      "metadata": {
        "id": "mRXfnbnCYSUU"
      },
      "outputs": [],
      "source": [
        "#train function with PGD attack and toggle between DCT and Pixel representation .Default is Pixel\n",
        "\n",
        "def train_(model, train_loader, optimizer, loss, atk, num_epochs=5):\n",
        "\n",
        "    model.train()\n",
        "\n",
        "    for epoch in range(num_epochs):\n",
        "\n",
        "        total_batch = len(fashion_mnist_train) // batch_size\n",
        "        \n",
        "        for i, (batch_images, batch_labels) in enumerate(train_loader):\n",
        "\n",
        "           \n",
        "            Y = batch_labels.cuda()\n",
        "            X = atk(batch_images, batch_labels).cuda()\n",
        "\n",
        "            pre = model(X)\n",
        "            cost = loss(pre, Y)\n",
        "\n",
        "            optimizer.zero_grad()\n",
        "            cost.backward()\n",
        "            optimizer.step()\n",
        "\n",
        "            if (i+1) % 100 == 0:\n",
        "                print(f'Train. Atk: {atk.attack}, Epoch [{epoch+1}/{num_epochs}], lter [{i+1}/{total_batch}], Loss: {cost.item()}')\n",
        "    return cost"
      ]
    },
    {
      "cell_type": "code",
      "execution_count": 14,
      "metadata": {
        "id": "ymJCu20wYWnx"
      },
      "outputs": [],
      "source": [
        "def round_robin(model, train_loader, optimizer, loss, atks_list, num_epochs=5):\n",
        "\n",
        "    model.train() \n",
        "    num_attacks = len(atks_list)\n",
        "    total_batch = len(fashion_mnist_train) // batch_size\n",
        "\n",
        "    for epoch in range(num_epochs): #+1 to round up\n",
        "\n",
        "        count = 0\n",
        "\n",
        "        for i, (batch_images, batch_labels) in enumerate(train_loader):\n",
        "\n",
        "            atk = atks_list[count]\n",
        "            Y = batch_labels.cuda()\n",
        "            X = atk(batch_images, batch_labels).cuda()\n",
        "\n",
        "            pre = model(X)\n",
        "            cost = loss(pre, Y)\n",
        "\n",
        "            optimizer.zero_grad()\n",
        "            cost.backward()\n",
        "            optimizer.step()\n",
        "\n",
        "            count += 1\n",
        "            count %= num_attacks\n",
        "\n",
        "            if (i+1) % 100 == 0:\n",
        "                print(f'RR. Epoch [{epoch+1}/{num_epochs}], lter [{i+1}/{total_batch}], Loss: {cost.item()}')\n",
        "    return cost"
      ]
    },
    {
      "cell_type": "code",
      "execution_count": 15,
      "metadata": {
        "id": "lPmwfoS0YZtv"
      },
      "outputs": [],
      "source": [
        "def greedy(model, train_loader, valid_loader, optimizer, loss, atks_list, num_epochs=5):\n",
        "\n",
        "    num_attacks = len(atks_list)\n",
        "    total_batch = len(fashion_mnist_train) // batch_size\n",
        "\n",
        "    for epoch in range(num_epochs):\n",
        "\n",
        "        loss_list = [0]*num_attacks\n",
        "\n",
        "        model.eval()\n",
        "\n",
        "        for i, (batch_images, batch_labels) in enumerate(valid_loader):\n",
        "\n",
        "            Y = batch_labels.cuda()\n",
        "            current_batch_size = Y.shape[0]\n",
        "\n",
        "            for i, atk in enumerate(atks_list):\n",
        "\n",
        "                X = atk(batch_images, batch_labels).cuda()\n",
        "\n",
        "                pre = model(X)\n",
        "                cost = loss(pre, Y)\n",
        "\n",
        "                loss_list[i] += float(cost)/current_batch_size\n",
        "\n",
        "        max_loss_arg = np.argmax(np.array(loss_list))\n",
        "        atk = atks_list[max_loss_arg]\n",
        "\n",
        "        print(f\"Greedy. Epoch [{epoch+1}/{num_epochs}], Worst loss attack: {atk.attack}, loss: {loss_list[max_loss_arg]}\")\n",
        "\n",
        "        model.train()\n",
        "\n",
        "        for i, (batch_images, batch_labels) in enumerate(train_loader):\n",
        "\n",
        "            Y = batch_labels.cuda()\n",
        "            X = atk(batch_images, batch_labels).cuda()\n",
        "\n",
        "            pre = model(X)\n",
        "            cost = loss(pre, Y)\n",
        "\n",
        "            optimizer.zero_grad()\n",
        "            cost.backward()\n",
        "            optimizer.step()\n",
        "\n",
        "            if (i+1) % 100 == 0:\n",
        "                print(f'Greedy. Epoch [{epoch+1}/{num_epochs}], lter [{i+1}/{total_batch}], Loss: {cost.item()}')\n",
        "    return cost"
      ]
    },
    {
      "cell_type": "code",
      "execution_count": 16,
      "metadata": {
        "id": "9wi-G1x3YcNz"
      },
      "outputs": [],
      "source": [
        "def multivariate_probability(model, train_loader, valid_loader, optimizer, loss, atks_list, num_epochs=5):\n",
        "\n",
        "    num_attacks = len(atks_list)\n",
        "    total_batch = len(fashion_mnist_train) // batch_size\n",
        "    w_list = [1]*num_attacks\n",
        "    eta = 0.1\n",
        "\n",
        "    for epoch in range(num_epochs):\n",
        "\n",
        "        loss_list = [0]*num_attacks\n",
        "        model.eval()\n",
        "\n",
        "        for i, (batch_images, batch_labels) in enumerate(valid_loader):\n",
        "\n",
        "            Y = batch_labels.cuda()\n",
        "            current_batch_size = Y.shape[0]\n",
        "\n",
        "            for i, atk in enumerate(atks_list):\n",
        "\n",
        "                X = atk(batch_images, batch_labels).cuda()\n",
        "\n",
        "                pre = model(X)\n",
        "                cost = loss(pre, Y)\n",
        "\n",
        "                loss_list[i] += float(cost)/current_batch_size\n",
        "\n",
        "        loss_list = np.array(loss_list)\n",
        "        total_loss = loss_list.sum()\n",
        "        prob_list = np.cumsum(loss_list)\n",
        "        prob_list /= total_loss\n",
        "\n",
        "        log = f\"MP. Epoch [{epoch+1}/{num_epochs}], atks: \"\n",
        "        for i, atk in enumerate(atks_list):\n",
        "            log += f\"({atk.attack},{prob_list[i]}) \"\n",
        "\n",
        "        print(log)\n",
        "\n",
        "        model.train()\n",
        "\n",
        "        for i, (batch_images, batch_labels) in enumerate(train_loader):\n",
        "\n",
        "            rand = random.random()\n",
        "            atk_idx = 0\n",
        "            for j in range(1,num_attacks):\n",
        "                if rand > prob_list[j]:\n",
        "                    atk_idx = j\n",
        "                else:\n",
        "                    break\n",
        "\n",
        "            atk = atks_list[atk_idx]\n",
        "            Y = batch_labels.cuda()\n",
        "            X = atk(batch_images, batch_labels).cuda()\n",
        "\n",
        "            pre = model(X)\n",
        "            cost = loss(pre, Y)\n",
        "\n",
        "            optimizer.zero_grad()\n",
        "            cost.backward()\n",
        "            optimizer.step()\n",
        "\n",
        "            if (i+1) % 100 == 0:\n",
        "                print(f'MP. Epoch [{epoch+1}/{num_epochs}], lter [{i+1}/{total_batch}], Loss: {cost.item()}')\n",
        "    return cost"
      ]
    },
    {
      "cell_type": "code",
      "execution_count": 17,
      "metadata": {
        "id": "Nj-Ihk2qYjcZ"
      },
      "outputs": [],
      "source": [
        "def get_model_acc(model, test_loader, atks_list):\n",
        "    \n",
        "    model_acc = {}\n",
        "    \n",
        "    for atk in atks_list:\n",
        "        model_atk_acc = get_accuracy(model, test_loader, atk)\n",
        "        model_acc[atk.attack] = model_atk_acc\n",
        "        \n",
        "    return model_acc"
      ]
    },
    {
      "cell_type": "code",
      "execution_count": 18,
      "metadata": {
        "id": "er_xUVK3bQ6D"
      },
      "outputs": [],
      "source": [
        "#Define attacks_list generation\n",
        "\n",
        "def generate_atks(model_atk, eps=0.3):\n",
        "    \n",
        "    atks_list = []\n",
        "    atks_list.append(NO_ATTACK(model_atk))\n",
        "    atks_list.append(STOCHASTIC_ATTACK(model_atk, eps=eps))\n",
        "    atks_list.append(STOCHASTIC_ATTACK(model_atk, eps=eps, transf=dct_transf))\n",
        "    atks_list.append(STOCHASTIC_ATTACK(model_atk, eps=eps, transf=jpeg_transf))\n",
        "    atks_list.append(STOCHASTIC_ATTACK(model_atk, eps=eps, transf=fft_transf))\n",
        "    atks_list.append(FGSM_(model_atk, eps=eps))\n",
        "    atks_list.append(FGSM_(model_atk, eps=eps, transf=dct_transf))\n",
        "    atks_list.append(FGSM_(model_atk, eps=eps, transf=jpeg_transf))\n",
        "    atks_list.append(FGSM_(model_atk, eps=eps, transf=fft_transf))\n",
        "        \n",
        "    return atks_list"
      ]
    },
    {
      "cell_type": "code",
      "execution_count": 19,
      "metadata": {
        "id": "jFEe9J3ObQ6D"
      },
      "outputs": [],
      "source": [
        "def get_model_avg(n_models=1, procedure=\"None\", num_epochs=5):\n",
        "\n",
        "    loss = nn.CrossEntropyLoss()\n",
        "    iters_result = {}\n",
        "    \n",
        "    for i in range(n_models):\n",
        "        model, optim = generate_model()\n",
        "        atks_model = generate_atks(model)\n",
        "        \n",
        "        if iters_result == {}:\n",
        "            for atk in atks_model:\n",
        "                iters_result[atk.attack] = []\n",
        "\n",
        "        cost0=train_(model,train_loader,optim,loss,atks_model[0], num_epochs=num_epochs)\n",
        "\n",
        "        if procedure == \"RR\":\n",
        "            cost1 = round_robin(model,train_loader,optim,loss,atks_model, num_epochs=num_epochs)\n",
        "        elif procedure == \"Greedy\":\n",
        "            cost1 = greedy(model,train_loader,valid_loader,optim,loss,atks_model, num_epochs=num_epochs)\n",
        "        elif procedure == \"MP\":\n",
        "            cost1 = multivariate_probability(model,train_loader,valid_loader,optim,loss,atks_model, num_epochs=num_epochs)\n",
        "        \n",
        "        acc = get_model_acc(model, test_loader, atks_model)\n",
        "        \n",
        "        for (key, value) in acc.items():\n",
        "            temp = iters_result[key]\n",
        "            temp.append(value)\n",
        "            iters_result[key] = temp\n",
        "            \n",
        "        print(f'Model average. Iter: {i+1}/{n_models}.')\n",
        "            \n",
        "    results = {}\n",
        "    for (key, values) in iters_result.items():\n",
        "        aux_array = np.array(values)\n",
        "        mean = np.mean(aux_array)\n",
        "        std = np.std(aux_array)\n",
        "        results[key] = str(round(mean, 2))+\"+\"+str(round(std, 2))\n",
        "    \n",
        "    return results"
      ]
    },
    {
      "cell_type": "markdown",
      "metadata": {
        "id": "fV08M7AnbQ6E"
      },
      "source": [
        "# Transformation analysis"
      ]
    },
    {
      "cell_type": "code",
      "execution_count": 20,
      "metadata": {
        "colab": {
          "base_uri": "https://localhost:8080/",
          "height": 272
        },
        "id": "5h59bpXMbQ6F",
        "outputId": "6de3b1d5-fdc3-4688-b120-47f5de79de1f"
      },
      "outputs": [
        {
          "output_type": "display_data",
          "data": {
            "text/plain": [
              "<Figure size 1080x1440 with 5 Axes>"
            ],
            "image/png": "[encoded data removed]"
          },
          "metadata": {
            "needs_background": "light"
          }
        }
      ],
      "source": [
        "#Show images\n",
        "\n",
        "num_images = 5\n",
        "steps = 5\n",
        "img_size = 3\n",
        "\n",
        "examples = enumerate(test_loader)\n",
        "batch_idx, (example_data, example_targets) = next(examples)\n",
        "images = example_data[0:num_images]\n",
        "\n",
        "fig, axs = plt.subplots(1, num_images, constrained_layout=True, figsize=(15, 20))\n",
        "\n",
        "for i in range(num_images):\n",
        "    axs[i].imshow(images[i,0], cmap='gray', interpolation='none')\n",
        "    axs[i].set_title(f'Original image')"
      ]
    },
    {
      "cell_type": "markdown",
      "metadata": {
        "id": "sI-2YhFqbQ6F"
      },
      "source": [
        "## Image representation comparison"
      ]
    },
    {
      "cell_type": "code",
      "execution_count": 21,
      "metadata": {
        "id": "zPAukeYihUn8",
        "colab": {
          "base_uri": "https://localhost:8080/",
          "height": 909
        },
        "outputId": "5d5e1f49-45fd-47aa-bed9-57eab3fa7e33"
      },
      "outputs": [
        {
          "output_type": "display_data",
          "data": {
            "text/plain": [
              "<Figure size 1080x864 with 20 Axes>"
            ],
            "image/png": "[encoded data removed]"
          },
          "metadata": {
            "needs_background": "light"
          }
        }
      ],
      "source": [
        "#Pixel vs DCT vs FFT\n",
        "\n",
        "num_images = 5\n",
        "steps = 5\n",
        "img_size = 3\n",
        "\n",
        "examples = enumerate(test_loader)\n",
        "batch_idx, (example_data, example_targets) = next(examples)\n",
        "images = example_data[0:num_images]\n",
        "\n",
        "images_dct = rt.block_dct(images)\n",
        "images_jpeg = rt.batch_dct(images)\n",
        "images_fft = torch.fft.fft(images)\n",
        "\n",
        "fig, axs = plt.subplots(4, num_images, constrained_layout=True, figsize=(15, 12))\n",
        "\n",
        "for i in range(num_images):\n",
        "    axs[0,i].imshow(images[i,0], cmap='gray', interpolation='none')\n",
        "    axs[0,i].set_title(f'Original image')\n",
        "\n",
        "for i in range(num_images):\n",
        "    axs[1,i].imshow(images_dct[i,0], cmap='gray', interpolation='none')\n",
        "    axs[1,i].set_title(f'DCT image')\n",
        "\n",
        "for i in range(num_images):\n",
        "    axs[2,i].imshow(images_jpeg[i,0], cmap='gray', interpolation='none')\n",
        "    axs[2,i].set_title(f'JPEG image')\n",
        "\n",
        "for i in range(num_images):\n",
        "    axs[3,i].imshow(torch.abs(images_fft[0,0]), cmap='gray', interpolation='none')\n",
        "    axs[3,i].set_title(f'FFT image')"
      ]
    },
    {
      "cell_type": "markdown",
      "metadata": {
        "id": "hU0g567VbQ6G"
      },
      "source": [
        "Images are correctly converted back"
      ]
    },
    {
      "cell_type": "code",
      "execution_count": 22,
      "metadata": {
        "colab": {
          "base_uri": "https://localhost:8080/",
          "height": 909
        },
        "id": "_WoUx0oibQ6G",
        "outputId": "fc18fe5a-3634-4719-9242-a1e68b8780f0"
      },
      "outputs": [
        {
          "output_type": "display_data",
          "data": {
            "text/plain": [
              "<Figure size 1080x864 with 20 Axes>"
            ],
            "image/png": "[encoded data removed]"
          },
          "metadata": {
            "needs_background": "light"
          }
        }
      ],
      "source": [
        "#Pixel vs DCT vs FFT (II)\n",
        "\n",
        "images_dct_back = rt.block_idct(images_dct)\n",
        "images_jpeg_back = rt.batch_idct(images_jpeg)\n",
        "images_fft_back = torch.fft.ifft(images_fft).real\n",
        "\n",
        "fig, axs = plt.subplots(4, num_images, constrained_layout=True, figsize=(15, 12))\n",
        "\n",
        "for i in range(num_images):\n",
        "    axs[0,i].imshow(images[i,0], cmap='gray', interpolation='none')\n",
        "    axs[0,i].set_title(f'Original image')\n",
        "\n",
        "for i in range(num_images):\n",
        "    axs[1,i].imshow(images_dct_back[i,0], cmap='gray', interpolation='none')\n",
        "    axs[1,i].set_title(f'DCT image back')\n",
        "\n",
        "for i in range(num_images):\n",
        "    axs[2,i].imshow(images_jpeg_back[i,0], cmap='gray', interpolation='none')\n",
        "    axs[2,i].set_title(f'JPEG image back')\n",
        "\n",
        "for i in range(num_images):\n",
        "    axs[3,i].imshow(images_fft_back[i,0], cmap='gray', interpolation='none')\n",
        "    axs[3,i].set_title(f'FFT image back')"
      ]
    },
    {
      "cell_type": "markdown",
      "metadata": {
        "id": "jyARHsk7bQ6H"
      },
      "source": [
        "The error after converting back is always lower than 10**(-12) except for JPEG with block sizes that can not divide evenly the image size. Standard block size is 8 for JPEG and Fashion Mnist image size is 28x28 (28/8=3.5, which is not int)."
      ]
    },
    {
      "cell_type": "code",
      "execution_count": 23,
      "metadata": {
        "id": "Rb9Jw8XRbQ6H"
      },
      "outputs": [],
      "source": [
        "examples = enumerate(test_loader)\n",
        "batch_idx, (example_data, example_targets) = next(examples)"
      ]
    },
    {
      "cell_type": "code",
      "execution_count": 24,
      "metadata": {
        "colab": {
          "base_uri": "https://localhost:8080/"
        },
        "id": "RVwP3OCAbQ6H",
        "outputId": "7147d77f-68fd-4b2b-d706-9b633b60e1f3"
      },
      "outputs": [
        {
          "output_type": "stream",
          "name": "stdout",
          "text": [
            "MSE loss after DCT transformation: 3.509062344083519e-13\n"
          ]
        }
      ],
      "source": [
        "#MSE LOSS from dct transformation\n",
        "\n",
        "example_data_back_dct = rt.block_idct(rt.block_dct(example_data))\n",
        "mse_loss = nn.MSELoss()\n",
        "output = mse_loss(example_data, example_data_back_dct)\n",
        "print('MSE loss after DCT transformation:', output.item())"
      ]
    },
    {
      "cell_type": "code",
      "execution_count": 25,
      "metadata": {
        "colab": {
          "base_uri": "https://localhost:8080/"
        },
        "id": "rVfY9U7ybQ6I",
        "outputId": "99b802f2-1990-4010-c565-c25406813a57"
      },
      "outputs": [
        {
          "output_type": "stream",
          "name": "stdout",
          "text": [
            "MSE loss after JPEG transformation: 0.028561387211084366\n"
          ]
        }
      ],
      "source": [
        "#MSE LOSS from jpeg transformation\n",
        "\n",
        "example_data_back_jpeg = rt.batch_idct(rt.batch_dct(example_data))\n",
        "mse_loss = nn.MSELoss()\n",
        "output = mse_loss(example_data, example_data_back_jpeg)\n",
        "print('MSE loss after JPEG transformation:', output.item())"
      ]
    },
    {
      "cell_type": "code",
      "execution_count": 26,
      "metadata": {
        "id": "gbCvxkQehaaO",
        "colab": {
          "base_uri": "https://localhost:8080/"
        },
        "outputId": "b58423bc-2150-4d61-8f89-5f12b547a858"
      },
      "outputs": [
        {
          "output_type": "stream",
          "name": "stdout",
          "text": [
            "MSE loss after FFT transformation:  1.8370630554552557e-15\n"
          ]
        }
      ],
      "source": [
        "#MSE LOSS from fft transformation\n",
        "\n",
        "example_data_back_fft = torch.fft.ifft(torch.fft.fft(example_data)).real\n",
        "mse_loss = nn.MSELoss()\n",
        "output = mse_loss(example_data, example_data_back_fft)\n",
        "print('MSE loss after FFT transformation: ', output.item())"
      ]
    },
    {
      "cell_type": "markdown",
      "metadata": {
        "id": "wFSlk7hPbQ6I"
      },
      "source": [
        "JPEG error in the corrected transformed part, i.e, in the parts that are considerer in the 8x8 blocks (24x24 pixels out of 28x28) is also lower than 10**(-12). It is actually even lower than standard dct in that same region."
      ]
    },
    {
      "cell_type": "code",
      "execution_count": 27,
      "metadata": {
        "colab": {
          "base_uri": "https://localhost:8080/"
        },
        "id": "kyTNYp70bQ6I",
        "outputId": "0beaa650-fbc5-4e4d-e779-06b1c844b647"
      },
      "outputs": [
        {
          "output_type": "stream",
          "name": "stdout",
          "text": [
            "MSE loss after DCT transformation (cropped 24x24): 2.4191992810049245e-13\n"
          ]
        }
      ],
      "source": [
        "#MSE LOSS from dct transformation cropped\n",
        "\n",
        "example_data_back_dct_crop = rt.block_idct(rt.block_dct(example_data[:,:,:24,:24]))\n",
        "mse_loss = nn.MSELoss()\n",
        "output = mse_loss(example_data[:,:,:24,:24], example_data_back_dct_crop)\n",
        "print('MSE loss after DCT transformation (cropped 24x24):', output.item())"
      ]
    },
    {
      "cell_type": "code",
      "execution_count": 28,
      "metadata": {
        "colab": {
          "base_uri": "https://localhost:8080/"
        },
        "id": "fbrzijOHbQ6J",
        "outputId": "d07f4542-bcfb-4845-ec0c-f3111e7745fb"
      },
      "outputs": [
        {
          "output_type": "stream",
          "name": "stdout",
          "text": [
            "MSE loss after JPEG transformation (cropped 24x24): 4.7019747578987137e-14\n"
          ]
        }
      ],
      "source": [
        "#MSE LOSS from jpeg transformation cropped\n",
        "\n",
        "example_data_back_jpeg_crop = rt.batch_idct(rt.batch_dct(example_data[:,:,:24,:24]))\n",
        "mse_loss = nn.MSELoss()\n",
        "output = mse_loss(example_data[:,:,:24,:24], example_data_back_jpeg_crop)\n",
        "print('MSE loss after JPEG transformation (cropped 24x24):', output.item())"
      ]
    },
    {
      "cell_type": "markdown",
      "source": [
        "Auto-Encoder"
      ],
      "metadata": {
        "id": "ATQvjZ-vdLXL"
      }
    },
    {
      "cell_type": "code",
      "source": [
        "# Creating a PyTorch class\n",
        "# 28*28 ==> 9 ==> 28*28\n",
        "class AE(torch.nn.Module):\n",
        "\tdef __init__(self):\n",
        "\t\tsuper().__init__()\n",
        "\t\t\n",
        "\t\t# Building an linear encoder with Linear\n",
        "\t\t# layer followed by Relu activation function\n",
        "\t\t# 784 ==> 9\n",
        "\t\tself.encoder = torch.nn.Sequential(\n",
        "\t\t\ttorch.nn.Linear(28 * 28, 128),\n",
        "\t\t\ttorch.nn.ReLU(),\n",
        "\t\t\ttorch.nn.Linear(128, 64),\n",
        "\t\t\ttorch.nn.ReLU(),\n",
        "\t\t\ttorch.nn.Linear(64, 36),\n",
        "\t\t\ttorch.nn.ReLU(),\n",
        "\t\t\ttorch.nn.Linear(36, 18),\n",
        "\t\t\ttorch.nn.ReLU(),\n",
        "\t\t\ttorch.nn.Linear(18, 9)\n",
        "\t\t)\n",
        "\t\t\n",
        "\t\t# Building an linear decoder with Linear\n",
        "\t\t# layer followed by Relu activation function\n",
        "\t\t# The Sigmoid activation function\n",
        "\t\t# outputs the value between 0 and 1\n",
        "\t\t# 9 ==> 784\n",
        "\t\tself.decoder = torch.nn.Sequential(\n",
        "\t\t\ttorch.nn.Linear(9, 18),\n",
        "\t\t\ttorch.nn.ReLU(),\n",
        "\t\t\ttorch.nn.Linear(18, 36),\n",
        "\t\t\ttorch.nn.ReLU(),\n",
        "\t\t\ttorch.nn.Linear(36, 64),\n",
        "\t\t\ttorch.nn.ReLU(),\n",
        "\t\t\ttorch.nn.Linear(64, 128),\n",
        "\t\t\ttorch.nn.ReLU(),\n",
        "\t\t\ttorch.nn.Linear(128, 28 * 28),\n",
        "\t\t\ttorch.nn.Sigmoid()\n",
        "\t\t)\n",
        "\n",
        "\tdef forward(self, x):\n",
        "\t\tencoded = self.encoder(x)\n",
        "\t\tdecoded = self.decoder(encoded)\n",
        "\t\treturn decoded\n",
        "\n"
      ],
      "metadata": {
        "id": "-7frPOn2dJIt"
      },
      "execution_count": 38,
      "outputs": []
    },
    {
      "cell_type": "code",
      "source": [
        "# Model Initialization\n",
        "model = AE()\n",
        "\n",
        "# Validation using MSE Loss function\n",
        "loss_function = torch.nn.MSELoss()\n",
        "\n",
        "# Using an Adam Optimizer with lr = 0.1\n",
        "optimizer = torch.optim.Adam(model.parameters(),\n",
        "\t\t\t\t\t\t\tlr = 1e-1,\n",
        "\t\t\t\t\t\t\tweight_decay = 1e-8)\n",
        "\n"
      ],
      "metadata": {
        "id": "tEi8sCRoeBxc"
      },
      "execution_count": 39,
      "outputs": []
    },
    {
      "cell_type": "code",
      "source": [
        "epochs = 3\n",
        "outputs = []\n",
        "losses = []\n",
        "for epoch in range(epochs):\n",
        "  for (image, _) in train_loader:\n",
        "    \n",
        "  \n",
        "    # Reshaping the image to (-1, 784)\n",
        "    image = image.reshape(-1, 28*28)\n",
        "    \n",
        "    # Output of Autoencoder\n",
        "    reconstructed = model(image)\n",
        "    \n",
        "    # Calculating the loss function\n",
        "    loss = loss_function(reconstructed, image)\n",
        "    \n",
        "    # The gradients are set to zero,\n",
        "    # the gradient is computed and stored.\n",
        "    # .step() performs parameter update\n",
        "    optimizer.zero_grad()\n",
        "    loss.backward()\n",
        "    optimizer.step()\n",
        "    \n",
        "    # Storing the losses in a list for plotting\n",
        "    losses.append(loss.detach().numpy())\n",
        "    outputs.append((epochs, image, reconstructed))\n",
        "\n",
        "\n"
      ],
      "metadata": {
        "colab": {
          "base_uri": "https://localhost:8080/"
        },
        "id": "26VW9xvMJHYm",
        "outputId": "e2c9e147-e853-4f30-ec88-04a29c8a4d64"
      },
      "execution_count": 67,
      "outputs": [
        {
          "output_type": "stream",
          "name": "stderr",
          "text": [
            "/usr/local/lib/python3.7/dist-packages/torch/utils/data/dataloader.py:566: UserWarning: This DataLoader will create 5 worker processes in total. Our suggested max number of worker in current system is 2, which is smaller than what this DataLoader is going to create. Please be aware that excessive worker creation might get DataLoader running slow or even freeze, lower the worker number to avoid potential slowness/freeze if necessary.\n",
            "  cpuset_checked))\n"
          ]
        }
      ]
    },
    {
      "cell_type": "code",
      "source": [
        "def Average(lst):\n",
        "    sum_of_list = 0\n",
        "    for i in range(len(lst)):\n",
        "        sum_of_list += lst[i]\n",
        "    average = sum_of_list/len(lst)\n",
        "    return average\n",
        "  \n",
        "losses_avg = Average(losses)\n",
        "\n",
        "losses_avg"
      ],
      "metadata": {
        "colab": {
          "base_uri": "https://localhost:8080/"
        },
        "id": "Y7Q-Z8tPLqru",
        "outputId": "e2e596c8-d7fb-4c00-a698-c46722861c79"
      },
      "execution_count": 63,
      "outputs": [
        {
          "output_type": "execute_result",
          "data": {
            "text/plain": [
              "0.08260399621581048"
            ]
          },
          "metadata": {},
          "execution_count": 63
        }
      ]
    },
    {
      "cell_type": "code",
      "source": [
        "for i, item in enumerate(image): \n",
        "  # Reshape the array for plotting\n",
        "  item = item.reshape(-1, 28, 28)\n",
        "  plt.imshow(item[0],cmap=\"gray\")\n",
        " "
      ],
      "metadata": {
        "colab": {
          "base_uri": "https://localhost:8080/",
          "height": 303
        },
        "id": "8p3liXS4eA8Y",
        "outputId": "43b197a0-c4d5-4dd7-8d83-2fcbb3c49e9f"
      },
      "execution_count": 64,
      "outputs": [
        {
          "output_type": "display_data",
          "data": {
            "text/plain": [
              "<Figure size 432x288 with 1 Axes>"
            ],
            "image/png": "[encoded data removed]"
          },
          "metadata": {}
        }
      ]
    },
    {
      "cell_type": "code",
      "source": [
        "def adv_back_to_pixel_autoencoder(back_images):\n",
        "  epochs = 5\n",
        "  outputs = []\n",
        "  losses = []\n",
        "  for (image) in back_images:\n",
        "    \n",
        "\n",
        "    # Reshaping the image to (-1, 784)\n",
        "    image = image.reshape(-1, 28*28)\n",
        "    \n",
        "    # Output of Autoencoder\n",
        "    reconstructed = model(image)\n",
        "    \n",
        "    # Calculating the loss function\n",
        "    loss = loss_function(reconstructed, image)\n",
        "    \n",
        "    # The gradients are set to zero,\n",
        "    # the gradient is computed and stored.\n",
        "    # .step() performs parameter update\n",
        "    optimizer.zero_grad()\n",
        "    loss.backward()\n",
        "    optimizer.step()\n",
        "    \n",
        "    # Storing the losses in a list for plotting\n",
        "    losses.append(loss.detach().numpy())\n",
        "    outputs.append((epochs, image, reconstructed))\n",
        "    return losses , outputs\n"
      ],
      "metadata": {
        "id": "65h7QY-0OuyX"
      },
      "execution_count": 80,
      "outputs": []
    },
    {
      "cell_type": "code",
      "source": [
        "# images_dct back\n",
        "losses_dct_back,outputs_dct_back = adv_back_to_pixel_autoencoder(images_dct_back)\n",
        "dct_back_ae_loss = Average(losses_dct_back)\n",
        "dct_back_ae_loss"
      ],
      "metadata": {
        "colab": {
          "base_uri": "https://localhost:8080/"
        },
        "id": "Jq7V3xPdQY7P",
        "outputId": "d9658857-f015-41d5-fc80-d4b989750cf1"
      },
      "execution_count": 81,
      "outputs": [
        {
          "output_type": "execute_result",
          "data": {
            "text/plain": [
              "0.0185379721224308"
            ]
          },
          "metadata": {},
          "execution_count": 81
        }
      ]
    },
    {
      "cell_type": "code",
      "source": [
        "#images jpeg back\n",
        "losses_jpeg_back,outputs_dct_back = adv_back_to_pixel_autoencoder(images_jpeg_back)\n",
        "jpeg_back_ae_loss = Average(losses_jpeg_back)\n",
        "jpeg_back_ae_loss\n",
        "#images_fft_back = torch.fft.ifft(images_fft).real"
      ],
      "metadata": {
        "colab": {
          "base_uri": "https://localhost:8080/"
        },
        "id": "TkFX7ZiFRMw5",
        "outputId": "e7e999d2-74b0-46ec-aaad-4f2f505841b1"
      },
      "execution_count": 83,
      "outputs": [
        {
          "output_type": "execute_result",
          "data": {
            "text/plain": [
              "0.019356071949005127"
            ]
          },
          "metadata": {},
          "execution_count": 83
        }
      ]
    },
    {
      "cell_type": "code",
      "source": [
        "#images fft back\n",
        "losses_fft_back,outputs_dct_back = adv_back_to_pixel_autoencoder(images_fft_back)\n",
        "fft_back_ae_loss = Average(losses_fft_back)\n",
        "fft_back_ae_loss"
      ],
      "metadata": {
        "colab": {
          "base_uri": "https://localhost:8080/"
        },
        "id": "qNo6g4o8Ri4b",
        "outputId": "e9fa2ad5-42fd-40cb-8bce-050b354b244e"
      },
      "execution_count": 84,
      "outputs": [
        {
          "output_type": "execute_result",
          "data": {
            "text/plain": [
              "0.012906324118375778"
            ]
          },
          "metadata": {},
          "execution_count": 84
        }
      ]
    },
    {
      "cell_type": "markdown",
      "metadata": {
        "id": "j7MGBbRJbQ6J"
      },
      "source": [
        "# Attack/pertubation comparison\n",
        "\n",
        "The attack comparison will be done using random perturbations (STOCHASTIC_ATTACK) and a simple attack FGSM.\n",
        "\n",
        "JPEG splits image in blocks of size 8. FashionMnist images size is 28x28, therefore some black borders can be seen in the bottom and right pixels.\n",
        "\n",
        "FFT seems to be weaker independently of the perturbation range (eps). FFT for eps=1 shows attacks with similar strength as the other representations with eps=0.3."
      ]
    },
    {
      "cell_type": "code",
      "execution_count": 28,
      "metadata": {
        "id": "9JHyshLvhSlk",
        "colab": {
          "base_uri": "https://localhost:8080/",
          "height": 1000,
          "referenced_widgets": [
            "63c83a564e0f4966824e6d1b643a890a",
            "e07c9db8c5004591a08edb2fbf5b2a0c",
            "4365fd1756a84ab7b74a7c743f5049bb",
            "5b5a331355824a3f80a81f370ce20882",
            "18ec2b949e204a6ea8d60d2ac6b29a5b",
            "192c1674da6a4a84b13d3940e6307805",
            "75d899dc5be744ab99fb6f75ca2fabf6",
            "ec3b916a9a2b47248dbd8e4a9588116b",
            "3a6f77cb9dfb4455974c6bcf0c1a1589",
            "bdde0debf767453b8261fcd29c58f156",
            "5f00dc046af449a18968514aaeb93815"
          ]
        },
        "outputId": "1218424c-94b9-4ffd-cbc0-91a9c49fea6a"
      },
      "outputs": [
        {
          "output_type": "stream",
          "name": "stderr",
          "text": [
            "/usr/local/lib/python3.7/dist-packages/torchvision/models/_utils.py:209: UserWarning: The parameter 'pretrained' is deprecated since 0.13 and will be removed in 0.15, please use 'weights' instead.\n",
            "  f\"The parameter '{pretrained_param}' is deprecated since 0.13 and will be removed in 0.15, \"\n",
            "/usr/local/lib/python3.7/dist-packages/torchvision/models/_utils.py:223: UserWarning: Arguments other than a weight enum or `None` for 'weights' are deprecated since 0.13 and will be removed in 0.15. The current behavior is equivalent to passing `weights=ResNet50_Weights.IMAGENET1K_V1`. You can also use `weights=ResNet50_Weights.DEFAULT` to get the most up-to-date weights.\n",
            "  warnings.warn(msg)\n",
            "Downloading: \"https://download.pytorch.org/models/resnet50-0676ba61.pth\" to /root/.cache/torch/hub/checkpoints/resnet50-0676ba61.pth\n"
          ]
        },
        {
          "output_type": "display_data",
          "data": {
            "text/plain": [
              "  0%|          | 0.00/97.8M [00:00<?, ?B/s]"
            ],
            "application/vnd.jupyter.widget-view+json": {
              "version_major": 2,
              "version_minor": 0,
              "model_id": "63c83a564e0f4966824e6d1b643a890a"
            }
          },
          "metadata": {}
        },
        {
          "output_type": "error",
          "ename": "AttributeError",
          "evalue": "ignored",
          "traceback": [
            "\u001b[0;31m---------------------------------------------------------------------------\u001b[0m",
            "\u001b[0;31mAttributeError\u001b[0m                            Traceback (most recent call last)",
            "\u001b[0;32m<ipython-input-28-3dfcbddc1633>\u001b[0m in \u001b[0;36m<module>\u001b[0;34m\u001b[0m\n\u001b[1;32m     17\u001b[0m         \u001b[0mlabel\u001b[0m \u001b[0;34m=\u001b[0m \u001b[0mexample_targets\u001b[0m\u001b[0;34m[\u001b[0m\u001b[0mj\u001b[0m\u001b[0;34m:\u001b[0m\u001b[0mj\u001b[0m\u001b[0;34m+\u001b[0m\u001b[0;36m1\u001b[0m\u001b[0;34m]\u001b[0m\u001b[0;34m\u001b[0m\u001b[0;34m\u001b[0m\u001b[0m\n\u001b[1;32m     18\u001b[0m         \u001b[0matk\u001b[0m \u001b[0;34m=\u001b[0m \u001b[0matks_list\u001b[0m\u001b[0;34m[\u001b[0m\u001b[0mi\u001b[0m\u001b[0;34m]\u001b[0m\u001b[0;34m\u001b[0m\u001b[0;34m\u001b[0m\u001b[0m\n\u001b[0;32m---> 19\u001b[0;31m         \u001b[0mimages_atk\u001b[0m \u001b[0;34m=\u001b[0m \u001b[0matk\u001b[0m\u001b[0;34m(\u001b[0m\u001b[0mimage\u001b[0m\u001b[0;34m,\u001b[0m \u001b[0mlabel\u001b[0m\u001b[0;34m)\u001b[0m\u001b[0;34m.\u001b[0m\u001b[0mcuda\u001b[0m\u001b[0;34m(\u001b[0m\u001b[0;34m)\u001b[0m\u001b[0;34m[\u001b[0m\u001b[0;36m0\u001b[0m\u001b[0;34m,\u001b[0m\u001b[0;36m0\u001b[0m\u001b[0;34m]\u001b[0m\u001b[0;34m\u001b[0m\u001b[0;34m\u001b[0m\u001b[0m\n\u001b[0m\u001b[1;32m     20\u001b[0m         \u001b[0maxs\u001b[0m\u001b[0;34m[\u001b[0m\u001b[0mi\u001b[0m\u001b[0;34m,\u001b[0m\u001b[0mj\u001b[0m\u001b[0;34m]\u001b[0m\u001b[0;34m.\u001b[0m\u001b[0mimshow\u001b[0m\u001b[0;34m(\u001b[0m\u001b[0mimages_atk\u001b[0m\u001b[0;34m.\u001b[0m\u001b[0mcpu\u001b[0m\u001b[0;34m(\u001b[0m\u001b[0;34m)\u001b[0m\u001b[0;34m.\u001b[0m\u001b[0mnumpy\u001b[0m\u001b[0;34m(\u001b[0m\u001b[0;34m)\u001b[0m\u001b[0;34m,\u001b[0m \u001b[0mcmap\u001b[0m\u001b[0;34m=\u001b[0m\u001b[0;34m'gray'\u001b[0m\u001b[0;34m,\u001b[0m \u001b[0minterpolation\u001b[0m\u001b[0;34m=\u001b[0m\u001b[0;34m'none'\u001b[0m\u001b[0;34m)\u001b[0m\u001b[0;34m\u001b[0m\u001b[0;34m\u001b[0m\u001b[0m\n\u001b[1;32m     21\u001b[0m         \u001b[0maxs\u001b[0m\u001b[0;34m[\u001b[0m\u001b[0mi\u001b[0m\u001b[0;34m,\u001b[0m\u001b[0mj\u001b[0m\u001b[0;34m]\u001b[0m\u001b[0;34m.\u001b[0m\u001b[0mset_title\u001b[0m\u001b[0;34m(\u001b[0m\u001b[0;34mf'{atk.attack}, eps={eps}'\u001b[0m\u001b[0;34m)\u001b[0m\u001b[0;34m\u001b[0m\u001b[0;34m\u001b[0m\u001b[0m\n",
            "\u001b[0;32m/usr/local/lib/python3.7/dist-packages/torchattacks/attack.py\u001b[0m in \u001b[0;36m__call__\u001b[0;34m(self, inputs, labels, *args, **kwargs)\u001b[0m\n\u001b[1;32m    427\u001b[0m             \u001b[0mself\u001b[0m\u001b[0;34m.\u001b[0m\u001b[0m_set_normalization_applied\u001b[0m\u001b[0;34m(\u001b[0m\u001b[0;32mTrue\u001b[0m\u001b[0;34m)\u001b[0m\u001b[0;34m\u001b[0m\u001b[0;34m\u001b[0m\u001b[0m\n\u001b[1;32m    428\u001b[0m         \u001b[0;32melse\u001b[0m\u001b[0;34m:\u001b[0m\u001b[0;34m\u001b[0m\u001b[0;34m\u001b[0m\u001b[0m\n\u001b[0;32m--> 429\u001b[0;31m             \u001b[0madv_inputs\u001b[0m \u001b[0;34m=\u001b[0m \u001b[0mself\u001b[0m\u001b[0;34m.\u001b[0m\u001b[0mforward\u001b[0m\u001b[0;34m(\u001b[0m\u001b[0minputs\u001b[0m\u001b[0;34m,\u001b[0m \u001b[0mlabels\u001b[0m\u001b[0;34m,\u001b[0m \u001b[0;34m*\u001b[0m\u001b[0margs\u001b[0m\u001b[0;34m,\u001b[0m \u001b[0;34m**\u001b[0m\u001b[0mkwargs\u001b[0m\u001b[0;34m)\u001b[0m\u001b[0;34m\u001b[0m\u001b[0;34m\u001b[0m\u001b[0m\n\u001b[0m\u001b[1;32m    430\u001b[0m             \u001b[0madv_inputs\u001b[0m \u001b[0;34m=\u001b[0m \u001b[0mself\u001b[0m\u001b[0;34m.\u001b[0m\u001b[0mto_type\u001b[0m\u001b[0;34m(\u001b[0m\u001b[0madv_inputs\u001b[0m\u001b[0;34m,\u001b[0m \u001b[0mself\u001b[0m\u001b[0;34m.\u001b[0m\u001b[0mreturn_type\u001b[0m\u001b[0;34m)\u001b[0m\u001b[0;34m\u001b[0m\u001b[0;34m\u001b[0m\u001b[0m\n\u001b[1;32m    431\u001b[0m \u001b[0;34m\u001b[0m\u001b[0m\n",
            "\u001b[0;32m/content/fgsm_.py\u001b[0m in \u001b[0;36mforward\u001b[0;34m(self, images, labels)\u001b[0m\n\u001b[1;32m     38\u001b[0m         \u001b[0mlabels\u001b[0m \u001b[0;34m=\u001b[0m \u001b[0mlabels\u001b[0m\u001b[0;34m.\u001b[0m\u001b[0mclone\u001b[0m\u001b[0;34m(\u001b[0m\u001b[0;34m)\u001b[0m\u001b[0;34m.\u001b[0m\u001b[0mdetach\u001b[0m\u001b[0;34m(\u001b[0m\u001b[0;34m)\u001b[0m\u001b[0;34m.\u001b[0m\u001b[0mto\u001b[0m\u001b[0;34m(\u001b[0m\u001b[0mself\u001b[0m\u001b[0;34m.\u001b[0m\u001b[0mdevice\u001b[0m\u001b[0;34m)\u001b[0m\u001b[0;34m\u001b[0m\u001b[0;34m\u001b[0m\u001b[0m\n\u001b[1;32m     39\u001b[0m \u001b[0;34m\u001b[0m\u001b[0m\n\u001b[0;32m---> 40\u001b[0;31m         \u001b[0;32mif\u001b[0m \u001b[0mself\u001b[0m\u001b[0;34m.\u001b[0m\u001b[0m_targeted\u001b[0m\u001b[0;34m:\u001b[0m\u001b[0;34m\u001b[0m\u001b[0;34m\u001b[0m\u001b[0m\n\u001b[0m\u001b[1;32m     41\u001b[0m             \u001b[0mtarget_labels\u001b[0m \u001b[0;34m=\u001b[0m \u001b[0mself\u001b[0m\u001b[0;34m.\u001b[0m\u001b[0m_get_target_label\u001b[0m\u001b[0;34m(\u001b[0m\u001b[0mimages_transf\u001b[0m\u001b[0;34m,\u001b[0m \u001b[0mlabels\u001b[0m\u001b[0;34m)\u001b[0m\u001b[0;34m\u001b[0m\u001b[0;34m\u001b[0m\u001b[0m\n\u001b[1;32m     42\u001b[0m \u001b[0;34m\u001b[0m\u001b[0m\n",
            "\u001b[0;31mAttributeError\u001b[0m: 'FGSM_' object has no attribute '_targeted'"
          ]
        },
        {
          "output_type": "display_data",
          "data": {
            "text/plain": [
              "<Figure size 1944x1728 with 45 Axes>"
            ],
            "image/png": "[encoded data removed]"
          },
          "metadata": {
            "needs_background": "light"
          }
        }
      ],
      "source": [
        "#Pixel representation\n",
        "\n",
        "num_images = 5\n",
        "eps = 0.3\n",
        "\n",
        "examples = enumerate(test_loader)\n",
        "batch_idx, (example_data, example_targets) = next(examples)\n",
        "model_used, _ = generate_model()\n",
        "atks_list = generate_atks(model_used, eps=eps)\n",
        "\n",
        "num_attacks = len(atks_list)\n",
        "fig, axs = plt.subplots(num_attacks, num_images, constrained_layout=True, figsize=(3*num_attacks, 24))\n",
        "\n",
        "for i in range(num_attacks):\n",
        "    for j in range(num_images):\n",
        "        image = example_data[j:j+1,:1,:,:]\n",
        "        label = example_targets[j:j+1]\n",
        "        atk = atks_list[i]\n",
        "        images_atk = atk(image, label).cuda()[0,0]\n",
        "        axs[i,j].imshow(images_atk.cpu().numpy(), cmap='gray', interpolation='none')\n",
        "        axs[i,j].set_title(f'{atk.attack}, eps={eps}')"
      ]
    },
    {
      "cell_type": "code",
      "execution_count": null,
      "metadata": {
        "id": "hDuWQSIVbQ6J"
      },
      "outputs": [],
      "source": [
        "#Pixel representation\n",
        "\n",
        "num_images = 5\n",
        "eps = 1\n",
        "\n",
        "examples = enumerate(test_loader)\n",
        "batch_idx, (example_data, example_targets) = next(examples)\n",
        "model_used, _ = generate_model()\n",
        "atks_list = generate_atks(model_used, eps=eps)\n",
        "\n",
        "num_attacks = len(atks_list)\n",
        "fig, axs = plt.subplots(num_attacks, num_images, constrained_layout=True, figsize=(3*num_attacks, 24))\n",
        "\n",
        "for i in range(num_attacks):\n",
        "    for j in range(num_images):\n",
        "        image = example_data[j:j+1,:1,:,:]\n",
        "        label = example_targets[j:j+1]\n",
        "        atk = atks_list[i]\n",
        "        images_atk = atk(image, label).cuda()[0,0]\n",
        "        axs[i,j].imshow(images_atk.cpu().numpy(), cmap='gray', interpolation='none')\n",
        "        axs[i,j].set_title(f'{atk.attack}, eps={eps}')"
      ]
    },
    {
      "cell_type": "markdown",
      "metadata": {
        "id": "52BgbggRbQ6K"
      },
      "source": [
        "# Other comparisons\n",
        "\n",
        "## JPEG block size comparison\n",
        "\n",
        "Block size doesn't seem to alter the trnasformation error. Except when the total size is not a multiple of the block_size (example: block_size 8 for image_size 28x28)."
      ]
    },
    {
      "cell_type": "code",
      "execution_count": null,
      "metadata": {
        "id": "Zox5XnwlbQ6K"
      },
      "outputs": [],
      "source": [
        "#JPEG comparison\n",
        "\n",
        "num_images = 5\n",
        "steps = 5\n",
        "img_size = 3\n",
        "\n",
        "examples = enumerate(test_loader)\n",
        "batch_idx, (example_data, example_targets) = next(examples)\n",
        "images = example_data[0:num_images]\n",
        "\n",
        "block_sizes = [1,2,4,7,8,14,28]\n",
        "n_sizes = len(block_sizes)\n",
        "\n",
        "fig, axs = plt.subplots(1+n_sizes, num_images, constrained_layout=True, figsize=(15, 20))\n",
        "\n",
        "for i in range(num_images):\n",
        "    axs[0,i].imshow(images[i,0], cmap='gray', interpolation='none')\n",
        "    axs[0,i].set_title(f'Original image')\n",
        "\n",
        "for j, b_size in enumerate(block_sizes):\n",
        "    images_jpeg = rt.batch_dct(images, block_size=b_size)\n",
        "    for i in range(num_images):\n",
        "        axs[j+1,i].imshow(images_jpeg[i,0], cmap='gray', interpolation='none')\n",
        "        axs[j+1,i].set_title(f'JPEG, Block_size: {b_size}')"
      ]
    },
    {
      "cell_type": "code",
      "execution_count": null,
      "metadata": {
        "id": "VoqC7HeRbQ6K"
      },
      "outputs": [],
      "source": [
        "#JPEG comparison\n",
        "\n",
        "num_images = 5\n",
        "block_sizes = [1,2,4,7,8,14,28]\n",
        "n_sizes = len(block_sizes)\n",
        "\n",
        "examples = enumerate(test_loader)\n",
        "batch_idx, (example_data, example_targets) = next(examples)\n",
        "images = example_data[0:num_images]\n",
        "\n",
        "\n",
        "fig, axs = plt.subplots(1+n_sizes, num_images, constrained_layout=True, figsize=(15, 20))\n",
        "\n",
        "for i in range(num_images):\n",
        "    axs[0,i].imshow(images[i,0], cmap='gray', interpolation='none')\n",
        "    axs[0,i].set_title(f'Original image')\n",
        "\n",
        "for j, b_size in enumerate(block_sizes):\n",
        "    images_jpeg = rt.batch_idct(rt.batch_dct(images, block_size=b_size), block_size=b_size)\n",
        "    for i in range(num_images):\n",
        "        axs[j+1,i].imshow(images_jpeg[i,0], cmap='gray', interpolation='none')\n",
        "        axs[j+1,i].set_title(f'JPEG back, Block_size: {b_size}')"
      ]
    },
    {
      "cell_type": "markdown",
      "metadata": {
        "id": "1Jo3z4BabQ6K"
      },
      "source": [
        "Error increases linearly if divisible block sizes are considered. Otherwise, the undivisble block sizes have much larger error."
      ]
    },
    {
      "cell_type": "code",
      "execution_count": null,
      "metadata": {
        "id": "Fk8YfIm7bQ6L"
      },
      "outputs": [],
      "source": [
        "#MSE LOSS from JPEG transformation with different block sizes\n",
        "\n",
        "num_images = 5\n",
        "block_sizes = [1,2,4,7,14,28]\n",
        "block_sizes_non_div = list(range(1,29))\n",
        "\n",
        "examples = enumerate(test_loader)\n",
        "batch_idx, (example_data, example_targets) = next(examples)\n",
        "mse_loss = nn.MSELoss()\n",
        "error_list = []\n",
        "error_list_non_div = []\n",
        "fig, axs = plt.subplots(2, 1, constrained_layout=True, figsize=(10, 5))\n",
        "\n",
        "for j, b_size in enumerate(block_sizes):\n",
        "    example_data_back_jpeg = rt.batch_idct(rt.batch_dct(example_data, block_size=b_size), block_size=b_size)\n",
        "    output = mse_loss(example_data, example_data_back_jpeg)\n",
        "    error_list.append(output.item())\n",
        "    print(f'MSE loss after JPEG transformation with block size {b_size}: {output.item()}')\n",
        "    \n",
        "axs[0].scatter(block_sizes, error_list)\n",
        "axs[0].set_title('Error vs block size')\n",
        "\n",
        "for j, b_size in enumerate(block_sizes_non_div):\n",
        "    example_data_back_jpeg = rt.batch_idct(rt.batch_dct(example_data, block_size=b_size), block_size=b_size)\n",
        "    output = mse_loss(example_data, example_data_back_jpeg)\n",
        "    error_list_non_div.append(output.item())\n",
        "    \n",
        "axs[1].scatter(block_sizes_non_div, error_list_non_div)\n",
        "axs[1].set_title('Error vs block size (non div)')"
      ]
    },
    {
      "cell_type": "markdown",
      "metadata": {
        "id": "9Ev7j0PebQ6L"
      },
      "source": [
        "## DCT  comparison\n",
        "\n",
        "DCT transformation stores most of the information in the top left corner (low frequency waves). This is due to images having locally the same color, i.e., given a white pixel the surrounding pixels will most likelly be also white. The same for black.\n",
        "\n",
        "This can be used to reduce the representation space to just a cetain amount of low frequency waves. Here some examples will be shown for different sizes considered of the top left corner of the dct representation."
      ]
    },
    {
      "cell_type": "code",
      "execution_count": null,
      "metadata": {
        "id": "y4Jq2W0RbQ6M"
      },
      "outputs": [],
      "source": [
        "#DCT subspace comparison\n",
        "\n",
        "num_images = 5\n",
        "threshold_sizes = [28,20,15,10,5,3,2,1,0]\n",
        "n_sizes = len(threshold_sizes)\n",
        "\n",
        "examples = enumerate(test_loader)\n",
        "batch_idx, (example_data, example_targets) = next(examples)\n",
        "images = example_data[0:num_images]\n",
        "images_dct = rt.block_dct(images)\n",
        "\n",
        "fig, axs = plt.subplots(1+n_sizes, num_images, constrained_layout=True, figsize=(15, 20))\n",
        "\n",
        "for i in range(num_images):\n",
        "    axs[0,i].imshow(images[i,0], cmap='gray', interpolation='none')\n",
        "    axs[0,i].set_title(f'Original image')\n",
        "\n",
        "for j, thresh in enumerate(threshold_sizes):\n",
        "    images_dct_alt = images_dct.clone()\n",
        "    images_dct_alt[:,:,thresh:,thresh:]=0\n",
        "    images_dct_alt_back = rt.block_idct(images_dct_alt)\n",
        "    for i in range(num_images):\n",
        "        axs[j+1,i].imshow(images_dct_alt_back[i,0], cmap='gray', interpolation='none')\n",
        "        axs[j+1,i].set_title(f'DCT, threshold: {thresh}')"
      ]
    },
    {
      "cell_type": "markdown",
      "metadata": {
        "id": "MA8wdIabbQ6N"
      },
      "source": [
        "The less amount of waves considered the more error it is added in the transformation.\n",
        "\n",
        "Maybe this can be used as data augmentation or an attack generation????????????????"
      ]
    },
    {
      "cell_type": "code",
      "execution_count": null,
      "metadata": {
        "id": "A3qwYi5tbQ6N"
      },
      "outputs": [],
      "source": [
        "#DCT subspace comparison\n",
        "\n",
        "num_images = 5\n",
        "threshold_sizes = [28,20,15,10,5,3,2,1,0]\n",
        "n_sizes = len(threshold_sizes)\n",
        "\n",
        "examples = enumerate(test_loader)\n",
        "batch_idx, (example_data, example_targets) = next(examples)\n",
        "images_dct = rt.block_dct(example_data)\n",
        "error_list = []\n",
        "\n",
        "for j, thresh in enumerate(threshold_sizes):\n",
        "    images_dct_alt = images_dct.clone()\n",
        "    images_dct_alt[:,:,thresh:,thresh:]=0\n",
        "    images_dct_alt_back = rt.block_idct(images_dct_alt)\n",
        "    output = mse_loss(example_data, images_dct_alt_back)\n",
        "    error_list.append(output.item())\n",
        "    print(f'MSE loss after DCT transformation with threshold {thresh}: {output.item()}')\n",
        "    \n",
        "plt.plot(threshold_sizes, error_list)\n",
        "plt.title('Error per waves considered')"
      ]
    },
    {
      "cell_type": "code",
      "source": [],
      "metadata": {
        "id": "2VWBQQNOc5Yg"
      },
      "execution_count": null,
      "outputs": []
    }
  ],
  "metadata": {
    "accelerator": "GPU",
    "colab": {
      "provenance": [],
      "collapsed_sections": [
        "j7MGBbRJbQ6J",
        "52BgbggRbQ6K"
      ]
    },
    "kernelspec": {
      "display_name": "Python 3 (ipykernel)",
      "language": "python",
      "name": "python3"
    },
    "language_info": {
      "codemirror_mode": {
        "name": "ipython",
        "version": 3
      },
      "file_extension": ".py",
      "mimetype": "text/x-python",
      "name": "python",
      "nbconvert_exporter": "python",
      "pygments_lexer": "ipython3",
      "version": "3.9.12"
    },
    "widgets": {
      "application/vnd.jupyter.widget-state+json": {
        "3ee36be41dec4935bd7298b22ee9ec49": {
          "model_module": "@jupyter-widgets/controls",
          "model_name": "HBoxModel",
          "model_module_version": "1.5.0",
          "state": {
            "_dom_classes": [],
            "_model_module": "@jupyter-widgets/controls",
            "_model_module_version": "1.5.0",
            "_model_name": "HBoxModel",
            "_view_count": null,
            "_view_module": "@jupyter-widgets/controls",
            "_view_module_version": "1.5.0",
            "_view_name": "HBoxView",
            "box_style": "",
            "children": [
              "IPY_MODEL_85572aa776854b1fb5ae3e051988e227",
              "IPY_MODEL_41ebe27c940b428c86f2e0d3d68c2063",
              "IPY_MODEL_1078edacdf7744148b28aac171da53b2"
            ],
            "layout": "IPY_MODEL_afe82b06c17c4cb1b1a52ad93d7d4ec9"
          }
        },
        "85572aa776854b1fb5ae3e051988e227": {
          "model_module": "@jupyter-widgets/controls",
          "model_name": "HTMLModel",
          "model_module_version": "1.5.0",
          "state": {
            "_dom_classes": [],
            "_model_module": "@jupyter-widgets/controls",
            "_model_module_version": "1.5.0",
            "_model_name": "HTMLModel",
            "_view_count": null,
            "_view_module": "@jupyter-widgets/controls",
            "_view_module_version": "1.5.0",
            "_view_name": "HTMLView",
            "description": "",
            "description_tooltip": null,
            "layout": "IPY_MODEL_d032bd0b8065452e9d71ca357a118519",
            "placeholder": "​",
            "style": "IPY_MODEL_a1a4fee2f5e042c69ae600928e9a7dd4",
            "value": "100%"
          }
        },
        "41ebe27c940b428c86f2e0d3d68c2063": {
          "model_module": "@jupyter-widgets/controls",
          "model_name": "FloatProgressModel",
          "model_module_version": "1.5.0",
          "state": {
            "_dom_classes": [],
            "_model_module": "@jupyter-widgets/controls",
            "_model_module_version": "1.5.0",
            "_model_name": "FloatProgressModel",
            "_view_count": null,
            "_view_module": "@jupyter-widgets/controls",
            "_view_module_version": "1.5.0",
            "_view_name": "ProgressView",
            "bar_style": "success",
            "description": "",
            "description_tooltip": null,
            "layout": "IPY_MODEL_4b606a3b8369494492ce07a2a13cc0ad",
            "max": 26421880,
            "min": 0,
            "orientation": "horizontal",
            "style": "IPY_MODEL_006078dbcd6f44a3a9d2178ba6eeed0d",
            "value": 26421880
          }
        },
        "1078edacdf7744148b28aac171da53b2": {
          "model_module": "@jupyter-widgets/controls",
          "model_name": "HTMLModel",
          "model_module_version": "1.5.0",
          "state": {
            "_dom_classes": [],
            "_model_module": "@jupyter-widgets/controls",
            "_model_module_version": "1.5.0",
            "_model_name": "HTMLModel",
            "_view_count": null,
            "_view_module": "@jupyter-widgets/controls",
            "_view_module_version": "1.5.0",
            "_view_name": "HTMLView",
            "description": "",
            "description_tooltip": null,
            "layout": "IPY_MODEL_82336a6368674bc88d50d54fa15402e3",
            "placeholder": "​",
            "style": "IPY_MODEL_150ade1b7e2a4418b92b03c068597107",
            "value": " 26421880/26421880 [00:00&lt;00:00, 121901010.99it/s]"
          }
        },
        "afe82b06c17c4cb1b1a52ad93d7d4ec9": {
          "model_module": "@jupyter-widgets/base",
          "model_name": "LayoutModel",
          "model_module_version": "1.2.0",
          "state": {
            "_model_module": "@jupyter-widgets/base",
            "_model_module_version": "1.2.0",
            "_model_name": "LayoutModel",
            "_view_count": null,
            "_view_module": "@jupyter-widgets/base",
            "_view_module_version": "1.2.0",
            "_view_name": "LayoutView",
            "align_content": null,
            "align_items": null,
            "align_self": null,
            "border": null,
            "bottom": null,
            "display": null,
            "flex": null,
            "flex_flow": null,
            "grid_area": null,
            "grid_auto_columns": null,
            "grid_auto_flow": null,
            "grid_auto_rows": null,
            "grid_column": null,
            "grid_gap": null,
            "grid_row": null,
            "grid_template_areas": null,
            "grid_template_columns": null,
            "grid_template_rows": null,
            "height": null,
            "justify_content": null,
            "justify_items": null,
            "left": null,
            "margin": null,
            "max_height": null,
            "max_width": null,
            "min_height": null,
            "min_width": null,
            "object_fit": null,
            "object_position": null,
            "order": null,
            "overflow": null,
            "overflow_x": null,
            "overflow_y": null,
            "padding": null,
            "right": null,
            "top": null,
            "visibility": null,
            "width": null
          }
        },
        "d032bd0b8065452e9d71ca357a118519": {
          "model_module": "@jupyter-widgets/base",
          "model_name": "LayoutModel",
          "model_module_version": "1.2.0",
          "state": {
            "_model_module": "@jupyter-widgets/base",
            "_model_module_version": "1.2.0",
            "_model_name": "LayoutModel",
            "_view_count": null,
            "_view_module": "@jupyter-widgets/base",
            "_view_module_version": "1.2.0",
            "_view_name": "LayoutView",
            "align_content": null,
            "align_items": null,
            "align_self": null,
            "border": null,
            "bottom": null,
            "display": null,
            "flex": null,
            "flex_flow": null,
            "grid_area": null,
            "grid_auto_columns": null,
            "grid_auto_flow": null,
            "grid_auto_rows": null,
            "grid_column": null,
            "grid_gap": null,
            "grid_row": null,
            "grid_template_areas": null,
            "grid_template_columns": null,
            "grid_template_rows": null,
            "height": null,
            "justify_content": null,
            "justify_items": null,
            "left": null,
            "margin": null,
            "max_height": null,
            "max_width": null,
            "min_height": null,
            "min_width": null,
            "object_fit": null,
            "object_position": null,
            "order": null,
            "overflow": null,
            "overflow_x": null,
            "overflow_y": null,
            "padding": null,
            "right": null,
            "top": null,
            "visibility": null,
            "width": null
          }
        },
        "a1a4fee2f5e042c69ae600928e9a7dd4": {
          "model_module": "@jupyter-widgets/controls",
          "model_name": "DescriptionStyleModel",
          "model_module_version": "1.5.0",
          "state": {
            "_model_module": "@jupyter-widgets/controls",
            "_model_module_version": "1.5.0",
            "_model_name": "DescriptionStyleModel",
            "_view_count": null,
            "_view_module": "@jupyter-widgets/base",
            "_view_module_version": "1.2.0",
            "_view_name": "StyleView",
            "description_width": ""
          }
        },
        "4b606a3b8369494492ce07a2a13cc0ad": {
          "model_module": "@jupyter-widgets/base",
          "model_name": "LayoutModel",
          "model_module_version": "1.2.0",
          "state": {
            "_model_module": "@jupyter-widgets/base",
            "_model_module_version": "1.2.0",
            "_model_name": "LayoutModel",
            "_view_count": null,
            "_view_module": "@jupyter-widgets/base",
            "_view_module_version": "1.2.0",
            "_view_name": "LayoutView",
            "align_content": null,
            "align_items": null,
            "align_self": null,
            "border": null,
            "bottom": null,
            "display": null,
            "flex": null,
            "flex_flow": null,
            "grid_area": null,
            "grid_auto_columns": null,
            "grid_auto_flow": null,
            "grid_auto_rows": null,
            "grid_column": null,
            "grid_gap": null,
            "grid_row": null,
            "grid_template_areas": null,
            "grid_template_columns": null,
            "grid_template_rows": null,
            "height": null,
            "justify_content": null,
            "justify_items": null,
            "left": null,
            "margin": null,
            "max_height": null,
            "max_width": null,
            "min_height": null,
            "min_width": null,
            "object_fit": null,
            "object_position": null,
            "order": null,
            "overflow": null,
            "overflow_x": null,
            "overflow_y": null,
            "padding": null,
            "right": null,
            "top": null,
            "visibility": null,
            "width": null
          }
        },
        "006078dbcd6f44a3a9d2178ba6eeed0d": {
          "model_module": "@jupyter-widgets/controls",
          "model_name": "ProgressStyleModel",
          "model_module_version": "1.5.0",
          "state": {
            "_model_module": "@jupyter-widgets/controls",
            "_model_module_version": "1.5.0",
            "_model_name": "ProgressStyleModel",
            "_view_count": null,
            "_view_module": "@jupyter-widgets/base",
            "_view_module_version": "1.2.0",
            "_view_name": "StyleView",
            "bar_color": null,
            "description_width": ""
          }
        },
        "82336a6368674bc88d50d54fa15402e3": {
          "model_module": "@jupyter-widgets/base",
          "model_name": "LayoutModel",
          "model_module_version": "1.2.0",
          "state": {
            "_model_module": "@jupyter-widgets/base",
            "_model_module_version": "1.2.0",
            "_model_name": "LayoutModel",
            "_view_count": null,
            "_view_module": "@jupyter-widgets/base",
            "_view_module_version": "1.2.0",
            "_view_name": "LayoutView",
            "align_content": null,
            "align_items": null,
            "align_self": null,
            "border": null,
            "bottom": null,
            "display": null,
            "flex": null,
            "flex_flow": null,
            "grid_area": null,
            "grid_auto_columns": null,
            "grid_auto_flow": null,
            "grid_auto_rows": null,
            "grid_column": null,
            "grid_gap": null,
            "grid_row": null,
            "grid_template_areas": null,
            "grid_template_columns": null,
            "grid_template_rows": null,
            "height": null,
            "justify_content": null,
            "justify_items": null,
            "left": null,
            "margin": null,
            "max_height": null,
            "max_width": null,
            "min_height": null,
            "min_width": null,
            "object_fit": null,
            "object_position": null,
            "order": null,
            "overflow": null,
            "overflow_x": null,
            "overflow_y": null,
            "padding": null,
            "right": null,
            "top": null,
            "visibility": null,
            "width": null
          }
        },
        "150ade1b7e2a4418b92b03c068597107": {
          "model_module": "@jupyter-widgets/controls",
          "model_name": "DescriptionStyleModel",
          "model_module_version": "1.5.0",
          "state": {
            "_model_module": "@jupyter-widgets/controls",
            "_model_module_version": "1.5.0",
            "_model_name": "DescriptionStyleModel",
            "_view_count": null,
            "_view_module": "@jupyter-widgets/base",
            "_view_module_version": "1.2.0",
            "_view_name": "StyleView",
            "description_width": ""
          }
        },
        "92c1cb7aa36d41848682541a3a8e4778": {
          "model_module": "@jupyter-widgets/controls",
          "model_name": "HBoxModel",
          "model_module_version": "1.5.0",
          "state": {
            "_dom_classes": [],
            "_model_module": "@jupyter-widgets/controls",
            "_model_module_version": "1.5.0",
            "_model_name": "HBoxModel",
            "_view_count": null,
            "_view_module": "@jupyter-widgets/controls",
            "_view_module_version": "1.5.0",
            "_view_name": "HBoxView",
            "box_style": "",
            "children": [
              "IPY_MODEL_2b1f8d5b74de43efbabecfeb51008e01",
              "IPY_MODEL_ea83bebe78b145a09b4d3927e1180576",
              "IPY_MODEL_0bc68e58d65447919c5bd43fe7b59257"
            ],
            "layout": "IPY_MODEL_79a376cd6e5a468b806445c400228b03"
          }
        },
        "2b1f8d5b74de43efbabecfeb51008e01": {
          "model_module": "@jupyter-widgets/controls",
          "model_name": "HTMLModel",
          "model_module_version": "1.5.0",
          "state": {
            "_dom_classes": [],
            "_model_module": "@jupyter-widgets/controls",
            "_model_module_version": "1.5.0",
            "_model_name": "HTMLModel",
            "_view_count": null,
            "_view_module": "@jupyter-widgets/controls",
            "_view_module_version": "1.5.0",
            "_view_name": "HTMLView",
            "description": "",
            "description_tooltip": null,
            "layout": "IPY_MODEL_66a4aef1b60d445caced3750c5d75cf2",
            "placeholder": "​",
            "style": "IPY_MODEL_a4e4205e2a39413cbb1f390ac45447ae",
            "value": "100%"
          }
        },
        "ea83bebe78b145a09b4d3927e1180576": {
          "model_module": "@jupyter-widgets/controls",
          "model_name": "FloatProgressModel",
          "model_module_version": "1.5.0",
          "state": {
            "_dom_classes": [],
            "_model_module": "@jupyter-widgets/controls",
            "_model_module_version": "1.5.0",
            "_model_name": "FloatProgressModel",
            "_view_count": null,
            "_view_module": "@jupyter-widgets/controls",
            "_view_module_version": "1.5.0",
            "_view_name": "ProgressView",
            "bar_style": "success",
            "description": "",
            "description_tooltip": null,
            "layout": "IPY_MODEL_1fea8d0c94fc401dbc600302e3371d79",
            "max": 29515,
            "min": 0,
            "orientation": "horizontal",
            "style": "IPY_MODEL_29f7a2e50ec34ab4b598b22573c6bea9",
            "value": 29515
          }
        },
        "0bc68e58d65447919c5bd43fe7b59257": {
          "model_module": "@jupyter-widgets/controls",
          "model_name": "HTMLModel",
          "model_module_version": "1.5.0",
          "state": {
            "_dom_classes": [],
            "_model_module": "@jupyter-widgets/controls",
            "_model_module_version": "1.5.0",
            "_model_name": "HTMLModel",
            "_view_count": null,
            "_view_module": "@jupyter-widgets/controls",
            "_view_module_version": "1.5.0",
            "_view_name": "HTMLView",
            "description": "",
            "description_tooltip": null,
            "layout": "IPY_MODEL_0a49a546dcc44cd798086207908ca4d5",
            "placeholder": "​",
            "style": "IPY_MODEL_0d631dee08c14825bfc711a66ec6208d",
            "value": " 29515/29515 [00:00&lt;00:00, 933680.90it/s]"
          }
        },
        "79a376cd6e5a468b806445c400228b03": {
          "model_module": "@jupyter-widgets/base",
          "model_name": "LayoutModel",
          "model_module_version": "1.2.0",
          "state": {
            "_model_module": "@jupyter-widgets/base",
            "_model_module_version": "1.2.0",
            "_model_name": "LayoutModel",
            "_view_count": null,
            "_view_module": "@jupyter-widgets/base",
            "_view_module_version": "1.2.0",
            "_view_name": "LayoutView",
            "align_content": null,
            "align_items": null,
            "align_self": null,
            "border": null,
            "bottom": null,
            "display": null,
            "flex": null,
            "flex_flow": null,
            "grid_area": null,
            "grid_auto_columns": null,
            "grid_auto_flow": null,
            "grid_auto_rows": null,
            "grid_column": null,
            "grid_gap": null,
            "grid_row": null,
            "grid_template_areas": null,
            "grid_template_columns": null,
            "grid_template_rows": null,
            "height": null,
            "justify_content": null,
            "justify_items": null,
            "left": null,
            "margin": null,
            "max_height": null,
            "max_width": null,
            "min_height": null,
            "min_width": null,
            "object_fit": null,
            "object_position": null,
            "order": null,
            "overflow": null,
            "overflow_x": null,
            "overflow_y": null,
            "padding": null,
            "right": null,
            "top": null,
            "visibility": null,
            "width": null
          }
        },
        "66a4aef1b60d445caced3750c5d75cf2": {
          "model_module": "@jupyter-widgets/base",
          "model_name": "LayoutModel",
          "model_module_version": "1.2.0",
          "state": {
            "_model_module": "@jupyter-widgets/base",
            "_model_module_version": "1.2.0",
            "_model_name": "LayoutModel",
            "_view_count": null,
            "_view_module": "@jupyter-widgets/base",
            "_view_module_version": "1.2.0",
            "_view_name": "LayoutView",
            "align_content": null,
            "align_items": null,
            "align_self": null,
            "border": null,
            "bottom": null,
            "display": null,
            "flex": null,
            "flex_flow": null,
            "grid_area": null,
            "grid_auto_columns": null,
            "grid_auto_flow": null,
            "grid_auto_rows": null,
            "grid_column": null,
            "grid_gap": null,
            "grid_row": null,
            "grid_template_areas": null,
            "grid_template_columns": null,
            "grid_template_rows": null,
            "height": null,
            "justify_content": null,
            "justify_items": null,
            "left": null,
            "margin": null,
            "max_height": null,
            "max_width": null,
            "min_height": null,
            "min_width": null,
            "object_fit": null,
            "object_position": null,
            "order": null,
            "overflow": null,
            "overflow_x": null,
            "overflow_y": null,
            "padding": null,
            "right": null,
            "top": null,
            "visibility": null,
            "width": null
          }
        },
        "a4e4205e2a39413cbb1f390ac45447ae": {
          "model_module": "@jupyter-widgets/controls",
          "model_name": "DescriptionStyleModel",
          "model_module_version": "1.5.0",
          "state": {
            "_model_module": "@jupyter-widgets/controls",
            "_model_module_version": "1.5.0",
            "_model_name": "DescriptionStyleModel",
            "_view_count": null,
            "_view_module": "@jupyter-widgets/base",
            "_view_module_version": "1.2.0",
            "_view_name": "StyleView",
            "description_width": ""
          }
        },
        "1fea8d0c94fc401dbc600302e3371d79": {
          "model_module": "@jupyter-widgets/base",
          "model_name": "LayoutModel",
          "model_module_version": "1.2.0",
          "state": {
            "_model_module": "@jupyter-widgets/base",
            "_model_module_version": "1.2.0",
            "_model_name": "LayoutModel",
            "_view_count": null,
            "_view_module": "@jupyter-widgets/base",
            "_view_module_version": "1.2.0",
            "_view_name": "LayoutView",
            "align_content": null,
            "align_items": null,
            "align_self": null,
            "border": null,
            "bottom": null,
            "display": null,
            "flex": null,
            "flex_flow": null,
            "grid_area": null,
            "grid_auto_columns": null,
            "grid_auto_flow": null,
            "grid_auto_rows": null,
            "grid_column": null,
            "grid_gap": null,
            "grid_row": null,
            "grid_template_areas": null,
            "grid_template_columns": null,
            "grid_template_rows": null,
            "height": null,
            "justify_content": null,
            "justify_items": null,
            "left": null,
            "margin": null,
            "max_height": null,
            "max_width": null,
            "min_height": null,
            "min_width": null,
            "object_fit": null,
            "object_position": null,
            "order": null,
            "overflow": null,
            "overflow_x": null,
            "overflow_y": null,
            "padding": null,
            "right": null,
            "top": null,
            "visibility": null,
            "width": null
          }
        },
        "29f7a2e50ec34ab4b598b22573c6bea9": {
          "model_module": "@jupyter-widgets/controls",
          "model_name": "ProgressStyleModel",
          "model_module_version": "1.5.0",
          "state": {
            "_model_module": "@jupyter-widgets/controls",
            "_model_module_version": "1.5.0",
            "_model_name": "ProgressStyleModel",
            "_view_count": null,
            "_view_module": "@jupyter-widgets/base",
            "_view_module_version": "1.2.0",
            "_view_name": "StyleView",
            "bar_color": null,
            "description_width": ""
          }
        },
        "0a49a546dcc44cd798086207908ca4d5": {
          "model_module": "@jupyter-widgets/base",
          "model_name": "LayoutModel",
          "model_module_version": "1.2.0",
          "state": {
            "_model_module": "@jupyter-widgets/base",
            "_model_module_version": "1.2.0",
            "_model_name": "LayoutModel",
            "_view_count": null,
            "_view_module": "@jupyter-widgets/base",
            "_view_module_version": "1.2.0",
            "_view_name": "LayoutView",
            "align_content": null,
            "align_items": null,
            "align_self": null,
            "border": null,
            "bottom": null,
            "display": null,
            "flex": null,
            "flex_flow": null,
            "grid_area": null,
            "grid_auto_columns": null,
            "grid_auto_flow": null,
            "grid_auto_rows": null,
            "grid_column": null,
            "grid_gap": null,
            "grid_row": null,
            "grid_template_areas": null,
            "grid_template_columns": null,
            "grid_template_rows": null,
            "height": null,
            "justify_content": null,
            "justify_items": null,
            "left": null,
            "margin": null,
            "max_height": null,
            "max_width": null,
            "min_height": null,
            "min_width": null,
            "object_fit": null,
            "object_position": null,
            "order": null,
            "overflow": null,
            "overflow_x": null,
            "overflow_y": null,
            "padding": null,
            "right": null,
            "top": null,
            "visibility": null,
            "width": null
          }
        },
        "0d631dee08c14825bfc711a66ec6208d": {
          "model_module": "@jupyter-widgets/controls",
          "model_name": "DescriptionStyleModel",
          "model_module_version": "1.5.0",
          "state": {
            "_model_module": "@jupyter-widgets/controls",
            "_model_module_version": "1.5.0",
            "_model_name": "DescriptionStyleModel",
            "_view_count": null,
            "_view_module": "@jupyter-widgets/base",
            "_view_module_version": "1.2.0",
            "_view_name": "StyleView",
            "description_width": ""
          }
        },
        "5ef79d76eac749eba25d3a444360f036": {
          "model_module": "@jupyter-widgets/controls",
          "model_name": "HBoxModel",
          "model_module_version": "1.5.0",
          "state": {
            "_dom_classes": [],
            "_model_module": "@jupyter-widgets/controls",
            "_model_module_version": "1.5.0",
            "_model_name": "HBoxModel",
            "_view_count": null,
            "_view_module": "@jupyter-widgets/controls",
            "_view_module_version": "1.5.0",
            "_view_name": "HBoxView",
            "box_style": "",
            "children": [
              "IPY_MODEL_0eae0fafdf2c4b24a480fbd964a6d043",
              "IPY_MODEL_e267453e7d1a42aebdc59b355d441d7c",
              "IPY_MODEL_05e011dc41384ef1ab5e056bc04e4662"
            ],
            "layout": "IPY_MODEL_ce7c15bf891a4031af4e8592a6ac4ea6"
          }
        },
        "0eae0fafdf2c4b24a480fbd964a6d043": {
          "model_module": "@jupyter-widgets/controls",
          "model_name": "HTMLModel",
          "model_module_version": "1.5.0",
          "state": {
            "_dom_classes": [],
            "_model_module": "@jupyter-widgets/controls",
            "_model_module_version": "1.5.0",
            "_model_name": "HTMLModel",
            "_view_count": null,
            "_view_module": "@jupyter-widgets/controls",
            "_view_module_version": "1.5.0",
            "_view_name": "HTMLView",
            "description": "",
            "description_tooltip": null,
            "layout": "IPY_MODEL_9643c8774442444bb0d82c4afa3059d3",
            "placeholder": "​",
            "style": "IPY_MODEL_566c60aaba8c4943bf4e2a7bc3af99f9",
            "value": "100%"
          }
        },
        "e267453e7d1a42aebdc59b355d441d7c": {
          "model_module": "@jupyter-widgets/controls",
          "model_name": "FloatProgressModel",
          "model_module_version": "1.5.0",
          "state": {
            "_dom_classes": [],
            "_model_module": "@jupyter-widgets/controls",
            "_model_module_version": "1.5.0",
            "_model_name": "FloatProgressModel",
            "_view_count": null,
            "_view_module": "@jupyter-widgets/controls",
            "_view_module_version": "1.5.0",
            "_view_name": "ProgressView",
            "bar_style": "success",
            "description": "",
            "description_tooltip": null,
            "layout": "IPY_MODEL_bb8a38b093a34c1dbe4cbae56b023b97",
            "max": 4422102,
            "min": 0,
            "orientation": "horizontal",
            "style": "IPY_MODEL_9a3fcd55ed324c68b42a56f91c2b5d54",
            "value": 4422102
          }
        },
        "05e011dc41384ef1ab5e056bc04e4662": {
          "model_module": "@jupyter-widgets/controls",
          "model_name": "HTMLModel",
          "model_module_version": "1.5.0",
          "state": {
            "_dom_classes": [],
            "_model_module": "@jupyter-widgets/controls",
            "_model_module_version": "1.5.0",
            "_model_name": "HTMLModel",
            "_view_count": null,
            "_view_module": "@jupyter-widgets/controls",
            "_view_module_version": "1.5.0",
            "_view_name": "HTMLView",
            "description": "",
            "description_tooltip": null,
            "layout": "IPY_MODEL_b04f2aa9c08046c19948d94ed62d603b",
            "placeholder": "​",
            "style": "IPY_MODEL_389bd5aefa094dca880e69b8d4b648f2",
            "value": " 4422102/4422102 [00:00&lt;00:00, 51116972.46it/s]"
          }
        },
        "ce7c15bf891a4031af4e8592a6ac4ea6": {
          "model_module": "@jupyter-widgets/base",
          "model_name": "LayoutModel",
          "model_module_version": "1.2.0",
          "state": {
            "_model_module": "@jupyter-widgets/base",
            "_model_module_version": "1.2.0",
            "_model_name": "LayoutModel",
            "_view_count": null,
            "_view_module": "@jupyter-widgets/base",
            "_view_module_version": "1.2.0",
            "_view_name": "LayoutView",
            "align_content": null,
            "align_items": null,
            "align_self": null,
            "border": null,
            "bottom": null,
            "display": null,
            "flex": null,
            "flex_flow": null,
            "grid_area": null,
            "grid_auto_columns": null,
            "grid_auto_flow": null,
            "grid_auto_rows": null,
            "grid_column": null,
            "grid_gap": null,
            "grid_row": null,
            "grid_template_areas": null,
            "grid_template_columns": null,
            "grid_template_rows": null,
            "height": null,
            "justify_content": null,
            "justify_items": null,
            "left": null,
            "margin": null,
            "max_height": null,
            "max_width": null,
            "min_height": null,
            "min_width": null,
            "object_fit": null,
            "object_position": null,
            "order": null,
            "overflow": null,
            "overflow_x": null,
            "overflow_y": null,
            "padding": null,
            "right": null,
            "top": null,
            "visibility": null,
            "width": null
          }
        },
        "9643c8774442444bb0d82c4afa3059d3": {
          "model_module": "@jupyter-widgets/base",
          "model_name": "LayoutModel",
          "model_module_version": "1.2.0",
          "state": {
            "_model_module": "@jupyter-widgets/base",
            "_model_module_version": "1.2.0",
            "_model_name": "LayoutModel",
            "_view_count": null,
            "_view_module": "@jupyter-widgets/base",
            "_view_module_version": "1.2.0",
            "_view_name": "LayoutView",
            "align_content": null,
            "align_items": null,
            "align_self": null,
            "border": null,
            "bottom": null,
            "display": null,
            "flex": null,
            "flex_flow": null,
            "grid_area": null,
            "grid_auto_columns": null,
            "grid_auto_flow": null,
            "grid_auto_rows": null,
            "grid_column": null,
            "grid_gap": null,
            "grid_row": null,
            "grid_template_areas": null,
            "grid_template_columns": null,
            "grid_template_rows": null,
            "height": null,
            "justify_content": null,
            "justify_items": null,
            "left": null,
            "margin": null,
            "max_height": null,
            "max_width": null,
            "min_height": null,
            "min_width": null,
            "object_fit": null,
            "object_position": null,
            "order": null,
            "overflow": null,
            "overflow_x": null,
            "overflow_y": null,
            "padding": null,
            "right": null,
            "top": null,
            "visibility": null,
            "width": null
          }
        },
        "566c60aaba8c4943bf4e2a7bc3af99f9": {
          "model_module": "@jupyter-widgets/controls",
          "model_name": "DescriptionStyleModel",
          "model_module_version": "1.5.0",
          "state": {
            "_model_module": "@jupyter-widgets/controls",
            "_model_module_version": "1.5.0",
            "_model_name": "DescriptionStyleModel",
            "_view_count": null,
            "_view_module": "@jupyter-widgets/base",
            "_view_module_version": "1.2.0",
            "_view_name": "StyleView",
            "description_width": ""
          }
        },
        "bb8a38b093a34c1dbe4cbae56b023b97": {
          "model_module": "@jupyter-widgets/base",
          "model_name": "LayoutModel",
          "model_module_version": "1.2.0",
          "state": {
            "_model_module": "@jupyter-widgets/base",
            "_model_module_version": "1.2.0",
            "_model_name": "LayoutModel",
            "_view_count": null,
            "_view_module": "@jupyter-widgets/base",
            "_view_module_version": "1.2.0",
            "_view_name": "LayoutView",
            "align_content": null,
            "align_items": null,
            "align_self": null,
            "border": null,
            "bottom": null,
            "display": null,
            "flex": null,
            "flex_flow": null,
            "grid_area": null,
            "grid_auto_columns": null,
            "grid_auto_flow": null,
            "grid_auto_rows": null,
            "grid_column": null,
            "grid_gap": null,
            "grid_row": null,
            "grid_template_areas": null,
            "grid_template_columns": null,
            "grid_template_rows": null,
            "height": null,
            "justify_content": null,
            "justify_items": null,
            "left": null,
            "margin": null,
            "max_height": null,
            "max_width": null,
            "min_height": null,
            "min_width": null,
            "object_fit": null,
            "object_position": null,
            "order": null,
            "overflow": null,
            "overflow_x": null,
            "overflow_y": null,
            "padding": null,
            "right": null,
            "top": null,
            "visibility": null,
            "width": null
          }
        },
        "9a3fcd55ed324c68b42a56f91c2b5d54": {
          "model_module": "@jupyter-widgets/controls",
          "model_name": "ProgressStyleModel",
          "model_module_version": "1.5.0",
          "state": {
            "_model_module": "@jupyter-widgets/controls",
            "_model_module_version": "1.5.0",
            "_model_name": "ProgressStyleModel",
            "_view_count": null,
            "_view_module": "@jupyter-widgets/base",
            "_view_module_version": "1.2.0",
            "_view_name": "StyleView",
            "bar_color": null,
            "description_width": ""
          }
        },
        "b04f2aa9c08046c19948d94ed62d603b": {
          "model_module": "@jupyter-widgets/base",
          "model_name": "LayoutModel",
          "model_module_version": "1.2.0",
          "state": {
            "_model_module": "@jupyter-widgets/base",
            "_model_module_version": "1.2.0",
            "_model_name": "LayoutModel",
            "_view_count": null,
            "_view_module": "@jupyter-widgets/base",
            "_view_module_version": "1.2.0",
            "_view_name": "LayoutView",
            "align_content": null,
            "align_items": null,
            "align_self": null,
            "border": null,
            "bottom": null,
            "display": null,
            "flex": null,
            "flex_flow": null,
            "grid_area": null,
            "grid_auto_columns": null,
            "grid_auto_flow": null,
            "grid_auto_rows": null,
            "grid_column": null,
            "grid_gap": null,
            "grid_row": null,
            "grid_template_areas": null,
            "grid_template_columns": null,
            "grid_template_rows": null,
            "height": null,
            "justify_content": null,
            "justify_items": null,
            "left": null,
            "margin": null,
            "max_height": null,
            "max_width": null,
            "min_height": null,
            "min_width": null,
            "object_fit": null,
            "object_position": null,
            "order": null,
            "overflow": null,
            "overflow_x": null,
            "overflow_y": null,
            "padding": null,
            "right": null,
            "top": null,
            "visibility": null,
            "width": null
          }
        },
        "389bd5aefa094dca880e69b8d4b648f2": {
          "model_module": "@jupyter-widgets/controls",
          "model_name": "DescriptionStyleModel",
          "model_module_version": "1.5.0",
          "state": {
            "_model_module": "@jupyter-widgets/controls",
            "_model_module_version": "1.5.0",
            "_model_name": "DescriptionStyleModel",
            "_view_count": null,
            "_view_module": "@jupyter-widgets/base",
            "_view_module_version": "1.2.0",
            "_view_name": "StyleView",
            "description_width": ""
          }
        },
        "c8b3bd0ca97b4ebd87f671d81163bc2f": {
          "model_module": "@jupyter-widgets/controls",
          "model_name": "HBoxModel",
          "model_module_version": "1.5.0",
          "state": {
            "_dom_classes": [],
            "_model_module": "@jupyter-widgets/controls",
            "_model_module_version": "1.5.0",
            "_model_name": "HBoxModel",
            "_view_count": null,
            "_view_module": "@jupyter-widgets/controls",
            "_view_module_version": "1.5.0",
            "_view_name": "HBoxView",
            "box_style": "",
            "children": [
              "IPY_MODEL_6092da6ec076440eae89ddc8bf6d08e5",
              "IPY_MODEL_3060f01f5f994d0ab9244102868bc9d7",
              "IPY_MODEL_ca2ce7eb866e47e4a271f2c86cc4e4cb"
            ],
            "layout": "IPY_MODEL_325f9d74803345d9acf07fc867865630"
          }
        },
        "6092da6ec076440eae89ddc8bf6d08e5": {
          "model_module": "@jupyter-widgets/controls",
          "model_name": "HTMLModel",
          "model_module_version": "1.5.0",
          "state": {
            "_dom_classes": [],
            "_model_module": "@jupyter-widgets/controls",
            "_model_module_version": "1.5.0",
            "_model_name": "HTMLModel",
            "_view_count": null,
            "_view_module": "@jupyter-widgets/controls",
            "_view_module_version": "1.5.0",
            "_view_name": "HTMLView",
            "description": "",
            "description_tooltip": null,
            "layout": "IPY_MODEL_9b5aeacf7b6a4152b7620a1a89593375",
            "placeholder": "​",
            "style": "IPY_MODEL_e46a9ea06b414e55a155566c1eaf37a2",
            "value": "100%"
          }
        },
        "3060f01f5f994d0ab9244102868bc9d7": {
          "model_module": "@jupyter-widgets/controls",
          "model_name": "FloatProgressModel",
          "model_module_version": "1.5.0",
          "state": {
            "_dom_classes": [],
            "_model_module": "@jupyter-widgets/controls",
            "_model_module_version": "1.5.0",
            "_model_name": "FloatProgressModel",
            "_view_count": null,
            "_view_module": "@jupyter-widgets/controls",
            "_view_module_version": "1.5.0",
            "_view_name": "ProgressView",
            "bar_style": "success",
            "description": "",
            "description_tooltip": null,
            "layout": "IPY_MODEL_8056a0540b6d4207b067309f99e58557",
            "max": 5148,
            "min": 0,
            "orientation": "horizontal",
            "style": "IPY_MODEL_2bedc9c40c214882b40897807074a359",
            "value": 5148
          }
        },
        "ca2ce7eb866e47e4a271f2c86cc4e4cb": {
          "model_module": "@jupyter-widgets/controls",
          "model_name": "HTMLModel",
          "model_module_version": "1.5.0",
          "state": {
            "_dom_classes": [],
            "_model_module": "@jupyter-widgets/controls",
            "_model_module_version": "1.5.0",
            "_model_name": "HTMLModel",
            "_view_count": null,
            "_view_module": "@jupyter-widgets/controls",
            "_view_module_version": "1.5.0",
            "_view_name": "HTMLView",
            "description": "",
            "description_tooltip": null,
            "layout": "IPY_MODEL_e959cbb3e6c54f45ad3f4040a56a610c",
            "placeholder": "​",
            "style": "IPY_MODEL_d8f31ee9b01e4aa69fc634e1d255ab3f",
            "value": " 5148/5148 [00:00&lt;00:00, 122016.46it/s]"
          }
        },
        "325f9d74803345d9acf07fc867865630": {
          "model_module": "@jupyter-widgets/base",
          "model_name": "LayoutModel",
          "model_module_version": "1.2.0",
          "state": {
            "_model_module": "@jupyter-widgets/base",
            "_model_module_version": "1.2.0",
            "_model_name": "LayoutModel",
            "_view_count": null,
            "_view_module": "@jupyter-widgets/base",
            "_view_module_version": "1.2.0",
            "_view_name": "LayoutView",
            "align_content": null,
            "align_items": null,
            "align_self": null,
            "border": null,
            "bottom": null,
            "display": null,
            "flex": null,
            "flex_flow": null,
            "grid_area": null,
            "grid_auto_columns": null,
            "grid_auto_flow": null,
            "grid_auto_rows": null,
            "grid_column": null,
            "grid_gap": null,
            "grid_row": null,
            "grid_template_areas": null,
            "grid_template_columns": null,
            "grid_template_rows": null,
            "height": null,
            "justify_content": null,
            "justify_items": null,
            "left": null,
            "margin": null,
            "max_height": null,
            "max_width": null,
            "min_height": null,
            "min_width": null,
            "object_fit": null,
            "object_position": null,
            "order": null,
            "overflow": null,
            "overflow_x": null,
            "overflow_y": null,
            "padding": null,
            "right": null,
            "top": null,
            "visibility": null,
            "width": null
          }
        },
        "9b5aeacf7b6a4152b7620a1a89593375": {
          "model_module": "@jupyter-widgets/base",
          "model_name": "LayoutModel",
          "model_module_version": "1.2.0",
          "state": {
            "_model_module": "@jupyter-widgets/base",
            "_model_module_version": "1.2.0",
            "_model_name": "LayoutModel",
            "_view_count": null,
            "_view_module": "@jupyter-widgets/base",
            "_view_module_version": "1.2.0",
            "_view_name": "LayoutView",
            "align_content": null,
            "align_items": null,
            "align_self": null,
            "border": null,
            "bottom": null,
            "display": null,
            "flex": null,
            "flex_flow": null,
            "grid_area": null,
            "grid_auto_columns": null,
            "grid_auto_flow": null,
            "grid_auto_rows": null,
            "grid_column": null,
            "grid_gap": null,
            "grid_row": null,
            "grid_template_areas": null,
            "grid_template_columns": null,
            "grid_template_rows": null,
            "height": null,
            "justify_content": null,
            "justify_items": null,
            "left": null,
            "margin": null,
            "max_height": null,
            "max_width": null,
            "min_height": null,
            "min_width": null,
            "object_fit": null,
            "object_position": null,
            "order": null,
            "overflow": null,
            "overflow_x": null,
            "overflow_y": null,
            "padding": null,
            "right": null,
            "top": null,
            "visibility": null,
            "width": null
          }
        },
        "e46a9ea06b414e55a155566c1eaf37a2": {
          "model_module": "@jupyter-widgets/controls",
          "model_name": "DescriptionStyleModel",
          "model_module_version": "1.5.0",
          "state": {
            "_model_module": "@jupyter-widgets/controls",
            "_model_module_version": "1.5.0",
            "_model_name": "DescriptionStyleModel",
            "_view_count": null,
            "_view_module": "@jupyter-widgets/base",
            "_view_module_version": "1.2.0",
            "_view_name": "StyleView",
            "description_width": ""
          }
        },
        "8056a0540b6d4207b067309f99e58557": {
          "model_module": "@jupyter-widgets/base",
          "model_name": "LayoutModel",
          "model_module_version": "1.2.0",
          "state": {
            "_model_module": "@jupyter-widgets/base",
            "_model_module_version": "1.2.0",
            "_model_name": "LayoutModel",
            "_view_count": null,
            "_view_module": "@jupyter-widgets/base",
            "_view_module_version": "1.2.0",
            "_view_name": "LayoutView",
            "align_content": null,
            "align_items": null,
            "align_self": null,
            "border": null,
            "bottom": null,
            "display": null,
            "flex": null,
            "flex_flow": null,
            "grid_area": null,
            "grid_auto_columns": null,
            "grid_auto_flow": null,
            "grid_auto_rows": null,
            "grid_column": null,
            "grid_gap": null,
            "grid_row": null,
            "grid_template_areas": null,
            "grid_template_columns": null,
            "grid_template_rows": null,
            "height": null,
            "justify_content": null,
            "justify_items": null,
            "left": null,
            "margin": null,
            "max_height": null,
            "max_width": null,
            "min_height": null,
            "min_width": null,
            "object_fit": null,
            "object_position": null,
            "order": null,
            "overflow": null,
            "overflow_x": null,
            "overflow_y": null,
            "padding": null,
            "right": null,
            "top": null,
            "visibility": null,
            "width": null
          }
        },
        "2bedc9c40c214882b40897807074a359": {
          "model_module": "@jupyter-widgets/controls",
          "model_name": "ProgressStyleModel",
          "model_module_version": "1.5.0",
          "state": {
            "_model_module": "@jupyter-widgets/controls",
            "_model_module_version": "1.5.0",
            "_model_name": "ProgressStyleModel",
            "_view_count": null,
            "_view_module": "@jupyter-widgets/base",
            "_view_module_version": "1.2.0",
            "_view_name": "StyleView",
            "bar_color": null,
            "description_width": ""
          }
        },
        "e959cbb3e6c54f45ad3f4040a56a610c": {
          "model_module": "@jupyter-widgets/base",
          "model_name": "LayoutModel",
          "model_module_version": "1.2.0",
          "state": {
            "_model_module": "@jupyter-widgets/base",
            "_model_module_version": "1.2.0",
            "_model_name": "LayoutModel",
            "_view_count": null,
            "_view_module": "@jupyter-widgets/base",
            "_view_module_version": "1.2.0",
            "_view_name": "LayoutView",
            "align_content": null,
            "align_items": null,
            "align_self": null,
            "border": null,
            "bottom": null,
            "display": null,
            "flex": null,
            "flex_flow": null,
            "grid_area": null,
            "grid_auto_columns": null,
            "grid_auto_flow": null,
            "grid_auto_rows": null,
            "grid_column": null,
            "grid_gap": null,
            "grid_row": null,
            "grid_template_areas": null,
            "grid_template_columns": null,
            "grid_template_rows": null,
            "height": null,
            "justify_content": null,
            "justify_items": null,
            "left": null,
            "margin": null,
            "max_height": null,
            "max_width": null,
            "min_height": null,
            "min_width": null,
            "object_fit": null,
            "object_position": null,
            "order": null,
            "overflow": null,
            "overflow_x": null,
            "overflow_y": null,
            "padding": null,
            "right": null,
            "top": null,
            "visibility": null,
            "width": null
          }
        },
        "d8f31ee9b01e4aa69fc634e1d255ab3f": {
          "model_module": "@jupyter-widgets/controls",
          "model_name": "DescriptionStyleModel",
          "model_module_version": "1.5.0",
          "state": {
            "_model_module": "@jupyter-widgets/controls",
            "_model_module_version": "1.5.0",
            "_model_name": "DescriptionStyleModel",
            "_view_count": null,
            "_view_module": "@jupyter-widgets/base",
            "_view_module_version": "1.2.0",
            "_view_name": "StyleView",
            "description_width": ""
          }
        },
        "63c83a564e0f4966824e6d1b643a890a": {
          "model_module": "@jupyter-widgets/controls",
          "model_name": "HBoxModel",
          "model_module_version": "1.5.0",
          "state": {
            "_dom_classes": [],
            "_model_module": "@jupyter-widgets/controls",
            "_model_module_version": "1.5.0",
            "_model_name": "HBoxModel",
            "_view_count": null,
            "_view_module": "@jupyter-widgets/controls",
            "_view_module_version": "1.5.0",
            "_view_name": "HBoxView",
            "box_style": "",
            "children": [
              "IPY_MODEL_e07c9db8c5004591a08edb2fbf5b2a0c",
              "IPY_MODEL_4365fd1756a84ab7b74a7c743f5049bb",
              "IPY_MODEL_5b5a331355824a3f80a81f370ce20882"
            ],
            "layout": "IPY_MODEL_18ec2b949e204a6ea8d60d2ac6b29a5b"
          }
        },
        "e07c9db8c5004591a08edb2fbf5b2a0c": {
          "model_module": "@jupyter-widgets/controls",
          "model_name": "HTMLModel",
          "model_module_version": "1.5.0",
          "state": {
            "_dom_classes": [],
            "_model_module": "@jupyter-widgets/controls",
            "_model_module_version": "1.5.0",
            "_model_name": "HTMLModel",
            "_view_count": null,
            "_view_module": "@jupyter-widgets/controls",
            "_view_module_version": "1.5.0",
            "_view_name": "HTMLView",
            "description": "",
            "description_tooltip": null,
            "layout": "IPY_MODEL_192c1674da6a4a84b13d3940e6307805",
            "placeholder": "​",
            "style": "IPY_MODEL_75d899dc5be744ab99fb6f75ca2fabf6",
            "value": "100%"
          }
        },
        "4365fd1756a84ab7b74a7c743f5049bb": {
          "model_module": "@jupyter-widgets/controls",
          "model_name": "FloatProgressModel",
          "model_module_version": "1.5.0",
          "state": {
            "_dom_classes": [],
            "_model_module": "@jupyter-widgets/controls",
            "_model_module_version": "1.5.0",
            "_model_name": "FloatProgressModel",
            "_view_count": null,
            "_view_module": "@jupyter-widgets/controls",
            "_view_module_version": "1.5.0",
            "_view_name": "ProgressView",
            "bar_style": "success",
            "description": "",
            "description_tooltip": null,
            "layout": "IPY_MODEL_ec3b916a9a2b47248dbd8e4a9588116b",
            "max": 102530333,
            "min": 0,
            "orientation": "horizontal",
            "style": "IPY_MODEL_3a6f77cb9dfb4455974c6bcf0c1a1589",
            "value": 102530333
          }
        },
        "5b5a331355824a3f80a81f370ce20882": {
          "model_module": "@jupyter-widgets/controls",
          "model_name": "HTMLModel",
          "model_module_version": "1.5.0",
          "state": {
            "_dom_classes": [],
            "_model_module": "@jupyter-widgets/controls",
            "_model_module_version": "1.5.0",
            "_model_name": "HTMLModel",
            "_view_count": null,
            "_view_module": "@jupyter-widgets/controls",
            "_view_module_version": "1.5.0",
            "_view_name": "HTMLView",
            "description": "",
            "description_tooltip": null,
            "layout": "IPY_MODEL_bdde0debf767453b8261fcd29c58f156",
            "placeholder": "​",
            "style": "IPY_MODEL_5f00dc046af449a18968514aaeb93815",
            "value": " 97.8M/97.8M [00:00&lt;00:00, 254MB/s]"
          }
        },
        "18ec2b949e204a6ea8d60d2ac6b29a5b": {
          "model_module": "@jupyter-widgets/base",
          "model_name": "LayoutModel",
          "model_module_version": "1.2.0",
          "state": {
            "_model_module": "@jupyter-widgets/base",
            "_model_module_version": "1.2.0",
            "_model_name": "LayoutModel",
            "_view_count": null,
            "_view_module": "@jupyter-widgets/base",
            "_view_module_version": "1.2.0",
            "_view_name": "LayoutView",
            "align_content": null,
            "align_items": null,
            "align_self": null,
            "border": null,
            "bottom": null,
            "display": null,
            "flex": null,
            "flex_flow": null,
            "grid_area": null,
            "grid_auto_columns": null,
            "grid_auto_flow": null,
            "grid_auto_rows": null,
            "grid_column": null,
            "grid_gap": null,
            "grid_row": null,
            "grid_template_areas": null,
            "grid_template_columns": null,
            "grid_template_rows": null,
            "height": null,
            "justify_content": null,
            "justify_items": null,
            "left": null,
            "margin": null,
            "max_height": null,
            "max_width": null,
            "min_height": null,
            "min_width": null,
            "object_fit": null,
            "object_position": null,
            "order": null,
            "overflow": null,
            "overflow_x": null,
            "overflow_y": null,
            "padding": null,
            "right": null,
            "top": null,
            "visibility": null,
            "width": null
          }
        },
        "192c1674da6a4a84b13d3940e6307805": {
          "model_module": "@jupyter-widgets/base",
          "model_name": "LayoutModel",
          "model_module_version": "1.2.0",
          "state": {
            "_model_module": "@jupyter-widgets/base",
            "_model_module_version": "1.2.0",
            "_model_name": "LayoutModel",
            "_view_count": null,
            "_view_module": "@jupyter-widgets/base",
            "_view_module_version": "1.2.0",
            "_view_name": "LayoutView",
            "align_content": null,
            "align_items": null,
            "align_self": null,
            "border": null,
            "bottom": null,
            "display": null,
            "flex": null,
            "flex_flow": null,
            "grid_area": null,
            "grid_auto_columns": null,
            "grid_auto_flow": null,
            "grid_auto_rows": null,
            "grid_column": null,
            "grid_gap": null,
            "grid_row": null,
            "grid_template_areas": null,
            "grid_template_columns": null,
            "grid_template_rows": null,
            "height": null,
            "justify_content": null,
            "justify_items": null,
            "left": null,
            "margin": null,
            "max_height": null,
            "max_width": null,
            "min_height": null,
            "min_width": null,
            "object_fit": null,
            "object_position": null,
            "order": null,
            "overflow": null,
            "overflow_x": null,
            "overflow_y": null,
            "padding": null,
            "right": null,
            "top": null,
            "visibility": null,
            "width": null
          }
        },
        "75d899dc5be744ab99fb6f75ca2fabf6": {
          "model_module": "@jupyter-widgets/controls",
          "model_name": "DescriptionStyleModel",
          "model_module_version": "1.5.0",
          "state": {
            "_model_module": "@jupyter-widgets/controls",
            "_model_module_version": "1.5.0",
            "_model_name": "DescriptionStyleModel",
            "_view_count": null,
            "_view_module": "@jupyter-widgets/base",
            "_view_module_version": "1.2.0",
            "_view_name": "StyleView",
            "description_width": ""
          }
        },
        "ec3b916a9a2b47248dbd8e4a9588116b": {
          "model_module": "@jupyter-widgets/base",
          "model_name": "LayoutModel",
          "model_module_version": "1.2.0",
          "state": {
            "_model_module": "@jupyter-widgets/base",
            "_model_module_version": "1.2.0",
            "_model_name": "LayoutModel",
            "_view_count": null,
            "_view_module": "@jupyter-widgets/base",
            "_view_module_version": "1.2.0",
            "_view_name": "LayoutView",
            "align_content": null,
            "align_items": null,
            "align_self": null,
            "border": null,
            "bottom": null,
            "display": null,
            "flex": null,
            "flex_flow": null,
            "grid_area": null,
            "grid_auto_columns": null,
            "grid_auto_flow": null,
            "grid_auto_rows": null,
            "grid_column": null,
            "grid_gap": null,
            "grid_row": null,
            "grid_template_areas": null,
            "grid_template_columns": null,
            "grid_template_rows": null,
            "height": null,
            "justify_content": null,
            "justify_items": null,
            "left": null,
            "margin": null,
            "max_height": null,
            "max_width": null,
            "min_height": null,
            "min_width": null,
            "object_fit": null,
            "object_position": null,
            "order": null,
            "overflow": null,
            "overflow_x": null,
            "overflow_y": null,
            "padding": null,
            "right": null,
            "top": null,
            "visibility": null,
            "width": null
          }
        },
        "3a6f77cb9dfb4455974c6bcf0c1a1589": {
          "model_module": "@jupyter-widgets/controls",
          "model_name": "ProgressStyleModel",
          "model_module_version": "1.5.0",
          "state": {
            "_model_module": "@jupyter-widgets/controls",
            "_model_module_version": "1.5.0",
            "_model_name": "ProgressStyleModel",
            "_view_count": null,
            "_view_module": "@jupyter-widgets/base",
            "_view_module_version": "1.2.0",
            "_view_name": "StyleView",
            "bar_color": null,
            "description_width": ""
          }
        },
        "bdde0debf767453b8261fcd29c58f156": {
          "model_module": "@jupyter-widgets/base",
          "model_name": "LayoutModel",
          "model_module_version": "1.2.0",
          "state": {
            "_model_module": "@jupyter-widgets/base",
            "_model_module_version": "1.2.0",
            "_model_name": "LayoutModel",
            "_view_count": null,
            "_view_module": "@jupyter-widgets/base",
            "_view_module_version": "1.2.0",
            "_view_name": "LayoutView",
            "align_content": null,
            "align_items": null,
            "align_self": null,
            "border": null,
            "bottom": null,
            "display": null,
            "flex": null,
            "flex_flow": null,
            "grid_area": null,
            "grid_auto_columns": null,
            "grid_auto_flow": null,
            "grid_auto_rows": null,
            "grid_column": null,
            "grid_gap": null,
            "grid_row": null,
            "grid_template_areas": null,
            "grid_template_columns": null,
            "grid_template_rows": null,
            "height": null,
            "justify_content": null,
            "justify_items": null,
            "left": null,
            "margin": null,
            "max_height": null,
            "max_width": null,
            "min_height": null,
            "min_width": null,
            "object_fit": null,
            "object_position": null,
            "order": null,
            "overflow": null,
            "overflow_x": null,
            "overflow_y": null,
            "padding": null,
            "right": null,
            "top": null,
            "visibility": null,
            "width": null
          }
        },
        "5f00dc046af449a18968514aaeb93815": {
          "model_module": "@jupyter-widgets/controls",
          "model_name": "DescriptionStyleModel",
          "model_module_version": "1.5.0",
          "state": {
            "_model_module": "@jupyter-widgets/controls",
            "_model_module_version": "1.5.0",
            "_model_name": "DescriptionStyleModel",
            "_view_count": null,
            "_view_module": "@jupyter-widgets/base",
            "_view_module_version": "1.2.0",
            "_view_name": "StyleView",
            "description_width": ""
          }
        }
      }
    }
  },
  "nbformat": 4,
  "nbformat_minor": 0
}